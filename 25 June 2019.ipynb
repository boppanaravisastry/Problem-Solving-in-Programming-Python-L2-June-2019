{
 "cells": [
  {
   "cell_type": "code",
   "execution_count": 8,
   "metadata": {},
   "outputs": [
    {
     "name": "stdout",
     "output_type": "stream",
     "text": [
      "2 1 0 1 1 2 0 0 1 0 "
     ]
    }
   ],
   "source": [
    "# Digit Frequency pro1\n",
    "def frequencydigit(t):\n",
    "    for i in range(0,10):\n",
    "        text=t.count(str(i))\n",
    "        print(text,end=\" \")\n",
    "    \n",
    "t=\"13a85a0504\"\n",
    "frequencydigit(t)"
   ]
  },
  {
   "cell_type": "code",
   "execution_count": 9,
   "metadata": {},
   "outputs": [
    {
     "name": "stdout",
     "output_type": "stream",
     "text": [
      "2 1 0 1 1 2 0 0 1 0 "
     ]
    }
   ],
   "source": [
    "# Digit Frequency pro2\n",
    "def frequency(t):\n",
    "    l=map(str,range(10))\n",
    "    l1=list(map(t.count,l))\n",
    "    for i in l1:\n",
    "        print(i,end=\" \")\n",
    "frequency(t)"
   ]
  },
  {
   "cell_type": "code",
   "execution_count": 12,
   "metadata": {},
   "outputs": [
    {
     "name": "stdout",
     "output_type": "stream",
     "text": [
      "2 1 0 1 1 2 0 0 1 0 "
     ]
    }
   ],
   "source": [
    "# Digit Frequency pro3\n",
    "def uniqueData(allnumbers):\n",
    "    unique=[]\n",
    "    for n in allnumbers:\n",
    "        if n not in unique:\n",
    "            unique.append(n)\n",
    "    return unique\n",
    "\n",
    "def digitFrequency(s):\n",
    "    allnumbers = []\n",
    "    for i in s:\n",
    "        if i.isdigit():\n",
    "            allnumbers.append(i)\n",
    "    unique=uniqueData(allnumbers)\n",
    "    \n",
    "    for i in range(0,10):\n",
    "        if str(i) not in unique:\n",
    "            print(0,end=\" \")\n",
    "        else:\n",
    "            count=allnumbers.count(str(i))\n",
    "            print(count,end=' ')\n",
    "s=\"13a85a0504\"            \n",
    "digitFrequency(s)          \n",
    "    \n",
    "  \n",
    "    "
   ]
  },
  {
   "cell_type": "code",
   "execution_count": 18,
   "metadata": {},
   "outputs": [
    {
     "data": {
      "text/plain": [
       "4"
      ]
     },
     "execution_count": 18,
     "metadata": {},
     "output_type": "execute_result"
    }
   ],
   "source": [
    "#Function to check if two strings are anagrams\n",
    "# abc cba -> True\n",
    "# abc abc\n",
    "# aabbcc ccbbaa -> False\n",
    "# aabbcc aaabbcc\n",
    "def checkAnagrams(s1,s2):\n",
    "    if len(s1)!=len(s2):\n",
    "        return False\n",
    "    if sorted(s1)==sorted(s2):\n",
    "        return True\n",
    "    return False\n",
    "def charDeletionsAnagrams(s1,s2):\n",
    "    # to collect uncommon characters - characters occuring in only \n",
    "    uncommon=[]\n",
    "    for i in s1:\n",
    "        if i not in s2:\n",
    "            uncommon.append(i)\n",
    "    for i in s2:\n",
    "        if i not in s1:\n",
    "            uncommon.append(i)\n",
    "    count=len(uncommon)\n",
    "    # freqs1 -> Frequency of common characters in s1\n",
    "    freqs1={}\n",
    "    #Freqs2 -> Frequency of common characters in s2\n",
    "    freqs2={}\n",
    "    #Uniqs1 -> unique characters in s1 and s2\n",
    "    uniqs1=[]\n",
    "    uniqs2=[]\n",
    "    # Frequency of common unique characters in s1\n",
    "    for i in s1:\n",
    "        if i not in uncommon and i not in uniqs1:\n",
    "            freqs1[i]=s1.count(i)\n",
    "            uniqs1.append(i)\n",
    "    # Frequency of common unique characters in s2\n",
    "    for i in s2:\n",
    "        if i not in uncommon and i not in uniqs2:\n",
    "            freqs2[i]=s2.count(i)\n",
    "            uniqs2 .append(i)\n",
    "    # Difference in frequencies for common characters\n",
    "    for key in freqs1.keys():\n",
    "        count+=abs(freqs1[key]-freqs2[key])\n",
    "    return count\n",
    "charDeletionsAnagrams('cde','abc')"
   ]
  },
  {
   "cell_type": "code",
   "execution_count": 29,
   "metadata": {},
   "outputs": [
    {
     "data": {
      "text/plain": [
       "'b'"
      ]
     },
     "execution_count": 29,
     "metadata": {},
     "output_type": "execute_result"
    }
   ],
   "source": [
    "# Largest number in a list\n",
    "# Second largest number in a list\n",
    "# Kth Largest number in a list\n",
    "\n",
    "# Elemnent with heighest frequency\n",
    "# Second Heighest frequency\n",
    "# Kth heighest frequency\n",
    "\n",
    "#{a:4,g:9,i:6,p:213}\n",
    "def kLargestFrequency(s,k):\n",
    "    # Contruct the frequency dictionary \n",
    "    #unique=[]\n",
    "    freq = {}\n",
    "    for i in s:\n",
    "        if i not in freq.keys():\n",
    "            freq[i]=s.count(i)\n",
    "    # Extract unique frequencies in decending order\n",
    "    values=sorted(freq.values(),reverse=True)\n",
    "    uniqueValues=list(set(values))\n",
    "    uniqueValues=sorted(uniqueValues,reverse=True) \n",
    "    \n",
    "    # Identify Kth largest frequency\n",
    "    if k<=len(freq.keys()):\n",
    "        kvalue=uniqueValues[k-1]\n",
    "    else:\n",
    "        return -1\n",
    "    # Get all elements with Kth largest frequency\n",
    "    li=[]\n",
    "    for item in freq.items():\n",
    "        if item[1]==kvalue:\n",
    "            li.append(item[0])\n",
    "    # Minimum of Kth Largest frequency\n",
    "    return min(li)\n",
    "kLargestFrequency('aabcdcc',3)"
   ]
  },
  {
   "cell_type": "code",
   "execution_count": null,
   "metadata": {},
   "outputs": [],
   "source": []
  }
 ],
 "metadata": {
  "kernelspec": {
   "display_name": "Python 3",
   "language": "python",
   "name": "python3"
  },
  "language_info": {
   "codemirror_mode": {
    "name": "ipython",
    "version": 3
   },
   "file_extension": ".py",
   "mimetype": "text/x-python",
   "name": "python",
   "nbconvert_exporter": "python",
   "pygments_lexer": "ipython3",
   "version": "3.7.3"
  }
 },
 "nbformat": 4,
 "nbformat_minor": 2
}
