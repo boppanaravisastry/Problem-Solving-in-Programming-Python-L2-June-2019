{
 "cells": [
  {
   "cell_type": "markdown",
   "metadata": {},
   "source": [
    "### Python Library for Data Analysis\n",
    "#### Pandas-Data Analysis"
   ]
  },
  {
   "cell_type": "code",
   "execution_count": 2,
   "metadata": {},
   "outputs": [
    {
     "data": {
      "text/html": [
       "<div>\n",
       "<style scoped>\n",
       "    .dataframe tbody tr th:only-of-type {\n",
       "        vertical-align: middle;\n",
       "    }\n",
       "\n",
       "    .dataframe tbody tr th {\n",
       "        vertical-align: top;\n",
       "    }\n",
       "\n",
       "    .dataframe thead th {\n",
       "        text-align: right;\n",
       "    }\n",
       "</style>\n",
       "<table border=\"1\" class=\"dataframe\">\n",
       "  <thead>\n",
       "    <tr style=\"text-align: right;\">\n",
       "      <th></th>\n",
       "      <th>GEOID</th>\n",
       "      <th>State</th>\n",
       "      <th>2005</th>\n",
       "      <th>2006</th>\n",
       "      <th>2007</th>\n",
       "      <th>2008</th>\n",
       "      <th>2009</th>\n",
       "      <th>2010</th>\n",
       "      <th>2011</th>\n",
       "      <th>2012</th>\n",
       "      <th>2013</th>\n",
       "    </tr>\n",
       "  </thead>\n",
       "  <tbody>\n",
       "    <tr>\n",
       "      <th>0</th>\n",
       "      <td>04000US01</td>\n",
       "      <td>Alabama</td>\n",
       "      <td>37150</td>\n",
       "      <td>37952</td>\n",
       "      <td>42212</td>\n",
       "      <td>44476</td>\n",
       "      <td>39980</td>\n",
       "      <td>40933</td>\n",
       "      <td>42590</td>\n",
       "      <td>43464</td>\n",
       "      <td>41381</td>\n",
       "    </tr>\n",
       "    <tr>\n",
       "      <th>1</th>\n",
       "      <td>04000US02</td>\n",
       "      <td>Alaska</td>\n",
       "      <td>55891</td>\n",
       "      <td>56418</td>\n",
       "      <td>62993</td>\n",
       "      <td>63989</td>\n",
       "      <td>61604</td>\n",
       "      <td>57848</td>\n",
       "      <td>57431</td>\n",
       "      <td>63648</td>\n",
       "      <td>61137</td>\n",
       "    </tr>\n",
       "    <tr>\n",
       "      <th>2</th>\n",
       "      <td>04000US04</td>\n",
       "      <td>Arizona</td>\n",
       "      <td>45245</td>\n",
       "      <td>46657</td>\n",
       "      <td>47215</td>\n",
       "      <td>46914</td>\n",
       "      <td>45739</td>\n",
       "      <td>46896</td>\n",
       "      <td>48621</td>\n",
       "      <td>47044</td>\n",
       "      <td>50602</td>\n",
       "    </tr>\n",
       "    <tr>\n",
       "      <th>3</th>\n",
       "      <td>04000US05</td>\n",
       "      <td>Arkansas</td>\n",
       "      <td>36658</td>\n",
       "      <td>37057</td>\n",
       "      <td>40795</td>\n",
       "      <td>39586</td>\n",
       "      <td>36538</td>\n",
       "      <td>38587</td>\n",
       "      <td>41302</td>\n",
       "      <td>39018</td>\n",
       "      <td>39919</td>\n",
       "    </tr>\n",
       "    <tr>\n",
       "      <th>4</th>\n",
       "      <td>04000US06</td>\n",
       "      <td>California</td>\n",
       "      <td>51755</td>\n",
       "      <td>55319</td>\n",
       "      <td>55734</td>\n",
       "      <td>57014</td>\n",
       "      <td>56134</td>\n",
       "      <td>54283</td>\n",
       "      <td>53367</td>\n",
       "      <td>57020</td>\n",
       "      <td>57528</td>\n",
       "    </tr>\n",
       "  </tbody>\n",
       "</table>\n",
       "</div>"
      ],
      "text/plain": [
       "       GEOID       State   2005   2006   2007   2008   2009   2010   2011  \\\n",
       "0  04000US01     Alabama  37150  37952  42212  44476  39980  40933  42590   \n",
       "1  04000US02      Alaska  55891  56418  62993  63989  61604  57848  57431   \n",
       "2  04000US04     Arizona  45245  46657  47215  46914  45739  46896  48621   \n",
       "3  04000US05    Arkansas  36658  37057  40795  39586  36538  38587  41302   \n",
       "4  04000US06  California  51755  55319  55734  57014  56134  54283  53367   \n",
       "\n",
       "    2012   2013  \n",
       "0  43464  41381  \n",
       "1  63648  61137  \n",
       "2  47044  50602  \n",
       "3  39018  39919  \n",
       "4  57020  57528  "
      ]
     },
     "execution_count": 2,
     "metadata": {},
     "output_type": "execute_result"
    }
   ],
   "source": [
    "# Function to read CSV data into a DataFrame\n",
    "# eturns the daraframe object\n",
    "import pandas as pd\n",
    "filepath='DataFiles/Income.csv'\n",
    "def readCSVdata(filepath):\n",
    "    return pd.read_csv(filepath)\n",
    "readCSVdata(filepath)"
   ]
  },
  {
   "cell_type": "code",
   "execution_count": 3,
   "metadata": {},
   "outputs": [
    {
     "name": "stdout",
     "output_type": "stream",
     "text": [
      "GEOID State 2005 2006 2007 2008 2009 2010 2011 2012 2013 "
     ]
    }
   ],
   "source": [
    "incomedf=readCSVdata(filepath)\n",
    "# Function to all column names in a single line\n",
    "#GEOID State 2005 2006 2007 2008 2009 2010 2011 2012 2013\n",
    "def printDataFrameColumns(df):\n",
    "    columns=df.columns\n",
    "    for column in columns:\n",
    "        print(column,end=' ')\n",
    "    return\n",
    "printDataFrameColumns(incomedf)\n"
   ]
  },
  {
   "cell_type": "code",
   "execution_count": 4,
   "metadata": {},
   "outputs": [
    {
     "name": "stdout",
     "output_type": "stream",
     "text": [
      "04000US02 Alaska 55891 56418 62993 63989 61604 57848 57431 63648 61137 "
     ]
    }
   ],
   "source": [
    "# Function to access a row based on a unique column value\n",
    "def accessDataFrameRow(df,key):\n",
    "    for row in df.values:\n",
    "        if key in row:\n",
    "            for item in row:\n",
    "                print(item,end=' ')\n",
    "        #print(item,end=' ')\n",
    "    return\n",
    "accessDataFrameRow(incomedf,'Alaska')"
   ]
  },
  {
   "cell_type": "code",
   "execution_count": 5,
   "metadata": {},
   "outputs": [
    {
     "data": {
      "text/plain": [
       "56134"
      ]
     },
     "execution_count": 5,
     "metadata": {},
     "output_type": "execute_result"
    }
   ],
   "source": [
    "#Accessing a unique value based on row,colomn\n",
    "#Income of a state in a given year\n",
    "def getRowIndex(df,rowkey):\n",
    "    for i in range(len(df.values)):\n",
    "        if df.values[i][0]==rowkey or df.values[i][1]==rowkey:\n",
    "            rowindex=i\n",
    "    return rowindex\n",
    "def getColumnIndex(df,columnkey):\n",
    "    for i in range(len(df.columns)):\n",
    "        if df.columns[i]==columnkey:\n",
    "            columnindex=i\n",
    "    return columnindex\n",
    "def valueFromRowColumn(df,rowkey,columnkey):\n",
    "    rowindex=getRowIndex(df,rowkey)\n",
    "    columnindex=getColumnIndex(df,columnkey)\n",
    "    return df.values[rowindex][columnindex]\n",
    "valueFromRowColumn(incomedf,'California','2009')    "
   ]
  },
  {
   "cell_type": "code",
   "execution_count": 6,
   "metadata": {},
   "outputs": [
    {
     "data": {
      "text/plain": [
       "RangeIndex(start=0, stop=5, step=1)"
      ]
     },
     "execution_count": 6,
     "metadata": {},
     "output_type": "execute_result"
    }
   ],
   "source": [
    "incomedf.index\n"
   ]
  },
  {
   "cell_type": "code",
   "execution_count": 7,
   "metadata": {},
   "outputs": [
    {
     "data": {
      "text/html": [
       "<div>\n",
       "<style scoped>\n",
       "    .dataframe tbody tr th:only-of-type {\n",
       "        vertical-align: middle;\n",
       "    }\n",
       "\n",
       "    .dataframe tbody tr th {\n",
       "        vertical-align: top;\n",
       "    }\n",
       "\n",
       "    .dataframe thead th {\n",
       "        text-align: right;\n",
       "    }\n",
       "</style>\n",
       "<table border=\"1\" class=\"dataframe\">\n",
       "  <thead>\n",
       "    <tr style=\"text-align: right;\">\n",
       "      <th></th>\n",
       "      <th>GEOID</th>\n",
       "      <th>State</th>\n",
       "      <th>2005</th>\n",
       "      <th>2006</th>\n",
       "      <th>2007</th>\n",
       "      <th>2008</th>\n",
       "      <th>2009</th>\n",
       "      <th>2010</th>\n",
       "      <th>2011</th>\n",
       "      <th>2012</th>\n",
       "      <th>2013</th>\n",
       "    </tr>\n",
       "  </thead>\n",
       "  <tbody>\n",
       "    <tr>\n",
       "      <th>0</th>\n",
       "      <td>04000US01</td>\n",
       "      <td>Alabama</td>\n",
       "      <td>37150</td>\n",
       "      <td>37952</td>\n",
       "      <td>42212</td>\n",
       "      <td>44476</td>\n",
       "      <td>39980</td>\n",
       "      <td>40933</td>\n",
       "      <td>42590</td>\n",
       "      <td>43464</td>\n",
       "      <td>41381</td>\n",
       "    </tr>\n",
       "    <tr>\n",
       "      <th>1</th>\n",
       "      <td>04000US02</td>\n",
       "      <td>Alaska</td>\n",
       "      <td>55891</td>\n",
       "      <td>56418</td>\n",
       "      <td>62993</td>\n",
       "      <td>63989</td>\n",
       "      <td>61604</td>\n",
       "      <td>57848</td>\n",
       "      <td>57431</td>\n",
       "      <td>63648</td>\n",
       "      <td>61137</td>\n",
       "    </tr>\n",
       "    <tr>\n",
       "      <th>2</th>\n",
       "      <td>04000US04</td>\n",
       "      <td>Arizona</td>\n",
       "      <td>45245</td>\n",
       "      <td>46657</td>\n",
       "      <td>47215</td>\n",
       "      <td>46914</td>\n",
       "      <td>45739</td>\n",
       "      <td>46896</td>\n",
       "      <td>48621</td>\n",
       "      <td>47044</td>\n",
       "      <td>50602</td>\n",
       "    </tr>\n",
       "    <tr>\n",
       "      <th>3</th>\n",
       "      <td>04000US05</td>\n",
       "      <td>Arkansas</td>\n",
       "      <td>36658</td>\n",
       "      <td>37057</td>\n",
       "      <td>40795</td>\n",
       "      <td>39586</td>\n",
       "      <td>36538</td>\n",
       "      <td>38587</td>\n",
       "      <td>41302</td>\n",
       "      <td>39018</td>\n",
       "      <td>39919</td>\n",
       "    </tr>\n",
       "    <tr>\n",
       "      <th>4</th>\n",
       "      <td>04000US06</td>\n",
       "      <td>California</td>\n",
       "      <td>51755</td>\n",
       "      <td>55319</td>\n",
       "      <td>55734</td>\n",
       "      <td>57014</td>\n",
       "      <td>56134</td>\n",
       "      <td>54283</td>\n",
       "      <td>53367</td>\n",
       "      <td>57020</td>\n",
       "      <td>57528</td>\n",
       "    </tr>\n",
       "  </tbody>\n",
       "</table>\n",
       "</div>"
      ],
      "text/plain": [
       "       GEOID       State   2005   2006   2007   2008   2009   2010   2011  \\\n",
       "0  04000US01     Alabama  37150  37952  42212  44476  39980  40933  42590   \n",
       "1  04000US02      Alaska  55891  56418  62993  63989  61604  57848  57431   \n",
       "2  04000US04     Arizona  45245  46657  47215  46914  45739  46896  48621   \n",
       "3  04000US05    Arkansas  36658  37057  40795  39586  36538  38587  41302   \n",
       "4  04000US06  California  51755  55319  55734  57014  56134  54283  53367   \n",
       "\n",
       "    2012   2013  \n",
       "0  43464  41381  \n",
       "1  63648  61137  \n",
       "2  47044  50602  \n",
       "3  39018  39919  \n",
       "4  57020  57528  "
      ]
     },
     "execution_count": 7,
     "metadata": {},
     "output_type": "execute_result"
    }
   ],
   "source": [
    "#Function to update data based on rowkey and \n",
    "def updateDataCellFromRowColumn(df,rowkey,columnkey,newdata):\n",
    "    rowindex=getRowIndex(df,rowkey)\n",
    "    columnindex=getColumnIndex(df,columnkey)\n",
    "    row=df.values[rowindex]\n",
    "    row[columnindex]=newdata\n",
    "    df.loc[rowindex]=row\n",
    "    return\n",
    "updateDataCellFromRowColumn(incomedf,'Arizona','2007',47215)\n",
    "incomedf"
   ]
  },
  {
   "cell_type": "code",
   "execution_count": 8,
   "metadata": {},
   "outputs": [
    {
     "name": "stdout",
     "output_type": "stream",
     "text": [
      "04000US02 Alaska 55891 56418 62993 63989 61604 57848 57431 63648 61137 "
     ]
    }
   ],
   "source": [
    "accessDataFrameRow(incomedf,62993)"
   ]
  },
  {
   "cell_type": "code",
   "execution_count": 9,
   "metadata": {},
   "outputs": [],
   "source": [
    "# Function to write DataFrame to CSV\n",
    "\n",
    "incomedf.to_csv(filepath,index=False)"
   ]
  },
  {
   "cell_type": "code",
   "execution_count": 10,
   "metadata": {},
   "outputs": [],
   "source": [
    "#Function to add a new row of data to DataFrame\n",
    "\n",
    "#def addRowDataFrame(df,rowdata):\n",
    "#   lastrowindex=len(df.values)\n",
    " #   df.loc[lastrowindex+1]=rowdata\n",
    "  #  return\n",
    "#rowdata=[1,2,3,4,4,5,6,6,7,8,8]\n",
    "#addRowDataFrame(incomedf,rowdata)\n",
    "#incomedf"
   ]
  },
  {
   "cell_type": "code",
   "execution_count": null,
   "metadata": {},
   "outputs": [],
   "source": []
  },
  {
   "cell_type": "code",
   "execution_count": 11,
   "metadata": {},
   "outputs": [
    {
     "name": "stdout",
     "output_type": "stream",
     "text": [
      "[37150 37952 42212 44476 39980 40933 42590 43464 41381]\n",
      "[55891 56418 62993 63989 61604 57848 57431 63648 61137]\n",
      "[45245 46657 47215 46914 45739 46896 48621 47044 50602]\n",
      "[36658 37057 40795 39586 36538 38587 41302 39018 39919]\n",
      "[51755 55319 55734 57014 56134 54283 53367 57020 57528]\n",
      "9\n"
     ]
    },
    {
     "data": {
      "text/plain": [
       "48525.42222222223"
      ]
     },
     "execution_count": 11,
     "metadata": {},
     "output_type": "execute_result"
    }
   ],
   "source": [
    "#Average Income of all states from 2005 to 2013\n",
    "sum2 = 0\n",
    "for row in incomedf.values:\n",
    "    sum2= sum2 + row[2::]\n",
    "    print(row[2::])    \n",
    "li=sum2/len(incomedf.values)\n",
    "print(len(li))  \n",
    "sum1=0\n",
    "for i in li:\n",
    "    sum1=sum1+i\n",
    "sum1/len(li)"
   ]
  },
  {
   "cell_type": "code",
   "execution_count": null,
   "metadata": {},
   "outputs": [],
   "source": [
    "#State with highest average income in the last three years\n",
    "def last3yearsindexs(df):\n",
    "    years = []\n",
    "    for i in df.columns:\n",
    "        years.append(i)\n",
    "    return years[-3:]\n",
    "#last3yearsindexs(incomedf)\n",
    "   \n",
    "def highestAverageIncomeLast3years(df):\n",
    "    last3years = last3yearsindexs(df)\n",
    "    rindexlist = []\n",
    "    cindexlist = []\n",
    "    sum1 = 0\n",
    "    c = 0\n",
    "    sum = 0\n",
    "    for row in df.values:\n",
    "        sum += row[-2]\n",
    "    for i in last3years:\n",
    "        ri = getRowIndex(df, i)\n",
    "        rindexlist.append(ri)\n",
    "        ci = getColumnIndex(df, i)\n",
    "    print(rindexlist)\n",
    "    for k in range(len(df.values)):\n",
    "        print(df.values[ri][ci:])        \n",
    "highestAverageIncomeLast3years(incomedf)"
   ]
  },
  {
   "cell_type": "code",
   "execution_count": 16,
   "metadata": {},
   "outputs": [
    {
     "name": "stdout",
     "output_type": "stream",
     "text": [
      "sum: 498154\n",
      "9\n",
      "cal avg 55350\n",
      "[41126, 60106, 47214, 38828, 55350]\n",
      "['Alabama' 'Alaska' 'Arizona' 'Arkansas' 'California']\n",
      "{'Alabama': 41126, 'Alaska': 60106, 'Arizona': 47214, 'Arkansas': 38828, 'California': 55350}\n",
      "Alabama : 41126 Arizona : 47214 Arkansas : 38828 "
     ]
    }
   ],
   "source": [
    "#Print the list of all states in the same line with average income less than California\n",
    "def getallvaluesinarow(df,col_name):\n",
    "    x = df[col_name].unique()\n",
    "    return x\n",
    "def californiaSumFrameRow(df, r, c):\n",
    "    rowindex = getRowIndex(df, r)\n",
    "    colindex = getColumnIndex(df, c)\n",
    "    sum1 = 0\n",
    "    c = 0\n",
    "    for j in range(rowindex,len(df.values)):\n",
    "        for k in range(colindex,len(df.columns)):\n",
    "            sum1 += int(df.values[j][k])\n",
    "            c += 1\n",
    "        print('sum:',sum1)\n",
    "        print(c)\n",
    "        calavg = sum1//c\n",
    "    print('cal avg',calavg)\n",
    "    avg = []\n",
    "    for k in range(0,len(df.values)):\n",
    "        sum2 = 0\n",
    "        count = 0\n",
    "        for j in range(2,len(df.columns)):\n",
    "            sum2 += int(df.values[k][j])\n",
    "            count += 1\n",
    "        newavg = sum2//count\n",
    "        if newavg not in avg: \n",
    "            avg.append(newavg)\n",
    "    print(avg)\n",
    "    x= getallvaluesinarow(df,'State')\n",
    "    print(x)\n",
    "    d = dict(zip(x,avg))\n",
    "    print(d)\n",
    "    for k,v in d.items():\n",
    "        if v<calavg:\n",
    "            print(k,':',v,end = ' ')\n",
    "californiaSumFrameRow(incomedf, 'California', '2005')"
   ]
  },
  {
   "cell_type": "code",
   "execution_count": 17,
   "metadata": {},
   "outputs": [
    {
     "name": "stdout",
     "output_type": "stream",
     "text": [
      "{'Alabama': 39980, 'Alaska': 61604, 'Arizona': 45739, 'Arkansas': 36538, 'California': 56134}\n",
      "Alaska  :: 61604\n",
      "California  :: 56134\n",
      "Arizona  :: 45739\n",
      "Alabama  :: 39980\n",
      "Arkansas  :: 36538\n"
     ]
    }
   ],
   "source": [
    "#Print the names of states based on descending order of income in the year 2009\n",
    "def allStates(df):\n",
    "    return(df['State'].unique())\n",
    "allStates(incomedf)\n",
    "def allincomesin2009(df):\n",
    "    return(df['2009'].unique())\n",
    "allincomesin2009(incomedf)\n",
    "\n",
    "def descendingorder(df,year):\n",
    "    stateslist = allStates(df)\n",
    "    incomelist = allincomesin2009(df)\n",
    "    d = dict(zip(stateslist,incomelist))\n",
    "    print(d)\n",
    "    listofTuples = sorted(d.items() , reverse=True ,key=lambda x: x[1])\n",
    "    for k,v in listofTuples :\n",
    "        print(k , \" ::\" , v )\n",
    "    \n",
    "descendingorder(incomedf,'2009')"
   ]
  },
  {
   "cell_type": "code",
   "execution_count": 18,
   "metadata": {},
   "outputs": [
    {
     "name": "stdout",
     "output_type": "stream",
     "text": [
      "36538\n",
      "Arkansas\n"
     ]
    }
   ],
   "source": [
    "#State with the lowest recorded income from 2005 to 2013\n",
    "def lowestRecordedincome(df,col1key,columnkey):\n",
    "    col1key = getColumnIndex(df, col1key)\n",
    "    c = 0\n",
    "    vlist = []\n",
    "    for i in range(0,len(df.values)):\n",
    "        for j in range(col1key,len(df.columns)):\n",
    "            v = int(df.values[i][j])\n",
    "            if v not in vlist:\n",
    "                vlist.append(v)\n",
    "    return min(vlist)\n",
    "def statename(df,col1key,columnkey):\n",
    "    col1index = getColumnIndex(df, col1key)\n",
    "    c = 0\n",
    "    min_ele = lowestRecordedincome(df,col1key,columnkey)\n",
    "    print(min_ele)\n",
    "    vlist = []\n",
    "    for i in range(0,len(df.values)):\n",
    "        for j in range(col1index,len(df.columns)):\n",
    "            if min_ele == int(df.values[i][j]):\n",
    "                k = i\n",
    "    colindex = getColumnIndex(incomedf, \"State\")\n",
    "    print(incomedf.values[k][colindex])\n",
    "\n",
    "statename(incomedf,'2005','2013')"
   ]
  },
  {
   "cell_type": "code",
   "execution_count": null,
   "metadata": {},
   "outputs": [],
   "source": []
  }
 ],
 "metadata": {
  "kernelspec": {
   "display_name": "Python 3",
   "language": "python",
   "name": "python3"
  },
  "language_info": {
   "codemirror_mode": {
    "name": "ipython",
    "version": 3
   },
   "file_extension": ".py",
   "mimetype": "text/x-python",
   "name": "python",
   "nbconvert_exporter": "python",
   "pygments_lexer": "ipython3",
   "version": "3.7.3"
  }
 },
 "nbformat": 4,
 "nbformat_minor": 2
}
