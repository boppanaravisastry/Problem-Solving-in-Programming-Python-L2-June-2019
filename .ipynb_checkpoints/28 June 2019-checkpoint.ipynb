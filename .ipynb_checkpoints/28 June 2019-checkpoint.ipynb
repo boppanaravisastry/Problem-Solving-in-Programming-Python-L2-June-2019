{
 "cells": [
  {
   "cell_type": "markdown",
   "metadata": {},
   "source": [
    "### Day Objectives\n",
    "- Map\n",
    "- Lambda\n",
    "- Filter\n",
    "- Use cases-File /Data Encryption"
   ]
  },
  {
   "cell_type": "markdown",
   "metadata": {},
   "source": [
    "### Map\n",
    "\n",
    "Mapping - Entity with a Function\n",
    "y=f(x)\n",
    "    f:x^2\n",
    " x        y\n",
    " 1\n",
    " 2\n",
    " 3\n",
    " 4\n",
    "map( function , Iterable)"
   ]
  },
  {
   "cell_type": "code",
   "execution_count": 9,
   "metadata": {},
   "outputs": [
    {
     "ename": "NameError",
     "evalue": "name 'recurivePowerN' is not defined",
     "output_type": "error",
     "traceback": [
      "\u001b[1;31m---------------------------------------------------------------------------\u001b[0m",
      "\u001b[1;31mNameError\u001b[0m                                 Traceback (most recent call last)",
      "\u001b[1;32m<ipython-input-9-e23d28033b37>\u001b[0m in \u001b[0;36m<module>\u001b[1;34m\u001b[0m\n\u001b[0;32m     12\u001b[0m     \u001b[1;32melse\u001b[0m\u001b[1;33m:\u001b[0m\u001b[1;33m\u001b[0m\u001b[1;33m\u001b[0m\u001b[0m\n\u001b[0;32m     13\u001b[0m         \u001b[1;32mreturn\u001b[0m \u001b[0ma\u001b[0m\u001b[1;33m*\u001b[0m\u001b[0mrecurivePowerN\u001b[0m\u001b[1;33m(\u001b[0m\u001b[0ma\u001b[0m\u001b[1;33m,\u001b[0m\u001b[0mn\u001b[0m\u001b[1;33m)\u001b[0m\u001b[1;33m\u001b[0m\u001b[1;33m\u001b[0m\u001b[0m\n\u001b[1;32m---> 14\u001b[1;33m \u001b[0mrecursivePowerN\u001b[0m\u001b[1;33m(\u001b[0m\u001b[1;36m2\u001b[0m\u001b[1;33m,\u001b[0m\u001b[1;36m2\u001b[0m\u001b[1;33m)\u001b[0m\u001b[1;33m\u001b[0m\u001b[1;33m\u001b[0m\u001b[0m\n\u001b[0m",
      "\u001b[1;32m<ipython-input-9-e23d28033b37>\u001b[0m in \u001b[0;36mrecursivePowerN\u001b[1;34m(a, n)\u001b[0m\n\u001b[0;32m     11\u001b[0m         \u001b[1;32mreturn\u001b[0m \u001b[1;36m1\u001b[0m\u001b[1;33m\u001b[0m\u001b[1;33m\u001b[0m\u001b[0m\n\u001b[0;32m     12\u001b[0m     \u001b[1;32melse\u001b[0m\u001b[1;33m:\u001b[0m\u001b[1;33m\u001b[0m\u001b[1;33m\u001b[0m\u001b[0m\n\u001b[1;32m---> 13\u001b[1;33m         \u001b[1;32mreturn\u001b[0m \u001b[0ma\u001b[0m\u001b[1;33m*\u001b[0m\u001b[0mrecurivePowerN\u001b[0m\u001b[1;33m(\u001b[0m\u001b[0ma\u001b[0m\u001b[1;33m,\u001b[0m\u001b[0mn\u001b[0m\u001b[1;33m)\u001b[0m\u001b[1;33m\u001b[0m\u001b[1;33m\u001b[0m\u001b[0m\n\u001b[0m\u001b[0;32m     14\u001b[0m \u001b[0mrecursivePowerN\u001b[0m\u001b[1;33m(\u001b[0m\u001b[1;36m2\u001b[0m\u001b[1;33m,\u001b[0m\u001b[1;36m2\u001b[0m\u001b[1;33m)\u001b[0m\u001b[1;33m\u001b[0m\u001b[1;33m\u001b[0m\u001b[0m\n",
      "\u001b[1;31mNameError\u001b[0m: name 'recurivePowerN' is not defined"
     ]
    }
   ],
   "source": [
    "def powerN(a,n):\n",
    "    #return a**n\n",
    "    r=1\n",
    "    for i in range(0,n):\n",
    "        r*=a\n",
    "    return r\n",
    "powerN(2,10)\n",
    "\n",
    "def recursivePowerN(a,n):\n",
    "    if n==0:\n",
    "        return 1\n",
    "    else:\n",
    "        return a*recurivePowerN(a,n)\n",
    "recursivePowerN(2,2)"
   ]
  },
  {
   "cell_type": "code",
   "execution_count": 36,
   "metadata": {},
   "outputs": [
    {
     "name": "stdout",
     "output_type": "stream",
     "text": [
      "<map object at 0x000001BC7273DA58>\n"
     ]
    },
    {
     "data": {
      "text/plain": [
       "[1, 8, 27, 64, 125, 216]"
      ]
     },
     "execution_count": 36,
     "metadata": {},
     "output_type": "execute_result"
    }
   ],
   "source": [
    "def cube(n):\n",
    "    return n**3\n",
    "li=[1,2,3,4,5,6]\n",
    "print(map(cube,li))\n",
    "li2=list(map(int,li))\n",
    "list(map(str,li2))\n",
    "numbers=[int(i) for i in li]\n",
    "[cube(i) for i in numbers]"
   ]
  },
  {
   "cell_type": "code",
   "execution_count": null,
   "metadata": {},
   "outputs": [],
   "source": []
  },
  {
   "cell_type": "code",
   "execution_count": null,
   "metadata": {},
   "outputs": [],
   "source": []
  },
  {
   "cell_type": "markdown",
   "metadata": {},
   "source": [
    "### Filter\n",
    "\n",
    "Used to check boolean values\n",
    "\n"
   ]
  },
  {
   "cell_type": "code",
   "execution_count": 18,
   "metadata": {},
   "outputs": [
    {
     "data": {
      "text/plain": [
       "[1, 2, 'a', 'b', 'c', 3]"
      ]
     },
     "execution_count": 18,
     "metadata": {},
     "output_type": "execute_result"
    }
   ],
   "source": [
    "li=[1,2,'a','b','c',3]\n",
    "def isDigit(c):\n",
    "    c=str(c)\n",
    "    if c.isdigit():\n",
    "        return -1\n",
    "    return 1\n",
    "isDigit('1')\n",
    "list(filter(isDigit,li))"
   ]
  },
  {
   "cell_type": "code",
   "execution_count": 33,
   "metadata": {},
   "outputs": [
    {
     "name": "stdout",
     "output_type": "stream",
     "text": [
      "[503, 509, 521, 523, 541, 547, 557, 563, 569, 571, 577, 587, 593, 599]\n",
      "[503, 509, 521, 523, 541, 547, 557, 563, 569, 571, 577, 587, 593, 599]\n"
     ]
    }
   ],
   "source": [
    "# Identify all Primes in a range\n",
    "li=[4,4,5,4,2,5]\n",
    "def isPrime(num):\n",
    "    if num<2:\n",
    "        return False\n",
    "    for i in range(2,(num//2)+1):\n",
    "        if num%i==0:\n",
    "            return False\n",
    "    return True\n",
    "isPrime(3)\n",
    "lb,ub=500,600\n",
    "primelist=list(filter(isPrime,range(lb,ub+1)))\n",
    "primelist2=[i for i in range(lb,ub+1) if isPrime(i)]\n",
    "\n",
    "# Map fails because it doesn't apply for checking condition\n",
    "print(primelist2)\n",
    "print(primelist)"
   ]
  },
  {
   "cell_type": "markdown",
   "metadata": {},
   "source": [
    "### Lambda\n",
    "\n",
    "Anonymous Functions\n",
    "\n",
    "Can be embedded into Lists,Maps,Filter"
   ]
  },
  {
   "cell_type": "code",
   "execution_count": 39,
   "metadata": {},
   "outputs": [
    {
     "data": {
      "text/plain": [
       "['False',\n",
       " 'None',\n",
       " 'True',\n",
       " 'and',\n",
       " 'as',\n",
       " 'assert',\n",
       " 'async',\n",
       " 'await',\n",
       " 'break',\n",
       " 'class',\n",
       " 'continue',\n",
       " 'def',\n",
       " 'del',\n",
       " 'elif',\n",
       " 'else',\n",
       " 'except',\n",
       " 'finally',\n",
       " 'for',\n",
       " 'from',\n",
       " 'global',\n",
       " 'if',\n",
       " 'import',\n",
       " 'in',\n",
       " 'is',\n",
       " 'lambda',\n",
       " 'nonlocal',\n",
       " 'not',\n",
       " 'or',\n",
       " 'pass',\n",
       " 'raise',\n",
       " 'return',\n",
       " 'try',\n",
       " 'while',\n",
       " 'with',\n",
       " 'yield']"
      ]
     },
     "execution_count": 39,
     "metadata": {},
     "output_type": "execute_result"
    }
   ],
   "source": [
    "import keyword\n",
    "keyword.kwlist"
   ]
  },
  {
   "cell_type": "code",
   "execution_count": 50,
   "metadata": {},
   "outputs": [
    {
     "data": {
      "text/plain": [
       "[2, 4, 6]"
      ]
     },
     "execution_count": 50,
     "metadata": {},
     "output_type": "execute_result"
    }
   ],
   "source": [
    "a=lambda x: x**3\n",
    "list(map(lambda x:x**3, [1,2,3,4,5,6]))\n",
    "list(filter(lambda x:(x%2==0),[1,2,3,4,5,6]))"
   ]
  },
  {
   "cell_type": "code",
   "execution_count": 63,
   "metadata": {},
   "outputs": [
    {
     "data": {
      "text/plain": [
       "[10, 16, 19, 10, 14, 13, 20, 14, 22, 3]"
      ]
     },
     "execution_count": 63,
     "metadata": {},
     "output_type": "execute_result"
    }
   ],
   "source": [
    "from random import randint\n",
    "mark1=[randint(0,25) for i in range(0,10)]\n",
    "mark2=[randint(0,25) for i in range(0,10)]\n",
    "mark3=[randint(0,25) for i in range(0,10)]\n",
    "averageinternal=list(map(lambda x,y,z: (x+y+z)//3, mark1,mark2,mark3))\n",
    "averageinternal\n",
    "failedmarks = list(filter(lambda x:x<15,list(map())))"
   ]
  },
  {
   "cell_type": "markdown",
   "metadata": {},
   "source": [
    "### Applying Functional Programming to the Marks Analysis Application"
   ]
  },
  {
   "cell_type": "code",
   "execution_count": 64,
   "metadata": {},
   "outputs": [],
   "source": [
    "# Generate Marks data\n",
    "from random import randint\n",
    "\n",
    "def generateMarks(n,lb,ub):\n",
    "    filename='DataFiles/marks.txt'\n",
    "    with open(filename,'w') as f:\n",
    "        for i in range(n):\n",
    "            marks=randint(lb,ub)\n",
    "            f.write(str(marks)+'\\n')\n",
    "    return\n",
    "generateMarks(300,0,100)"
   ]
  },
  {
   "cell_type": "code",
   "execution_count": 72,
   "metadata": {},
   "outputs": [
    {
     "data": {
      "text/plain": [
       "[21,\n",
       " 17,\n",
       " 56,\n",
       " 34,\n",
       " 0,\n",
       " 46,\n",
       " 19,\n",
       " 32,\n",
       " 83,\n",
       " 70,\n",
       " 80,\n",
       " 9,\n",
       " 10,\n",
       " 87,\n",
       " 24,\n",
       " 81,\n",
       " 1,\n",
       " 34,\n",
       " 33,\n",
       " 30,\n",
       " 18,\n",
       " 72,\n",
       " 11,\n",
       " 8,\n",
       " 18,\n",
       " 52,\n",
       " 100,\n",
       " 2,\n",
       " 24,\n",
       " 7,\n",
       " 5,\n",
       " 30,\n",
       " 93,\n",
       " 41,\n",
       " 6,\n",
       " 4,\n",
       " 91,\n",
       " 61,\n",
       " 6,\n",
       " 16,\n",
       " 13,\n",
       " 82,\n",
       " 49,\n",
       " 16,\n",
       " 90,\n",
       " 57,\n",
       " 58,\n",
       " 20,\n",
       " 76,\n",
       " 62,\n",
       " 75,\n",
       " 86,\n",
       " 48,\n",
       " 39,\n",
       " 74,\n",
       " 84,\n",
       " 47,\n",
       " 73,\n",
       " 49,\n",
       " 98,\n",
       " 19,\n",
       " 34,\n",
       " 96,\n",
       " 87,\n",
       " 82,\n",
       " 79,\n",
       " 89,\n",
       " 1,\n",
       " 31,\n",
       " 69,\n",
       " 44,\n",
       " 17,\n",
       " 80,\n",
       " 24,\n",
       " 32,\n",
       " 45,\n",
       " 93,\n",
       " 39,\n",
       " 85,\n",
       " 62,\n",
       " 62,\n",
       " 19,\n",
       " 66,\n",
       " 14,\n",
       " 49,\n",
       " 34,\n",
       " 85,\n",
       " 37,\n",
       " 93,\n",
       " 39,\n",
       " 73,\n",
       " 68,\n",
       " 43,\n",
       " 100,\n",
       " 7,\n",
       " 84,\n",
       " 10,\n",
       " 89,\n",
       " 36,\n",
       " 27,\n",
       " 37,\n",
       " 63,\n",
       " 16,\n",
       " 44,\n",
       " 85,\n",
       " 7,\n",
       " 42,\n",
       " 41,\n",
       " 33,\n",
       " 35,\n",
       " 98,\n",
       " 13,\n",
       " 25,\n",
       " 73,\n",
       " 18,\n",
       " 60,\n",
       " 0,\n",
       " 97,\n",
       " 61,\n",
       " 98,\n",
       " 53,\n",
       " 25,\n",
       " 36,\n",
       " 100,\n",
       " 86,\n",
       " 74,\n",
       " 81,\n",
       " 6,\n",
       " 73,\n",
       " 49,\n",
       " 7,\n",
       " 71,\n",
       " 94,\n",
       " 70,\n",
       " 33,\n",
       " 70,\n",
       " 44,\n",
       " 51,\n",
       " 33,\n",
       " 75,\n",
       " 42,\n",
       " 82,\n",
       " 76,\n",
       " 51,\n",
       " 89,\n",
       " 91,\n",
       " 100,\n",
       " 18,\n",
       " 18,\n",
       " 7,\n",
       " 60,\n",
       " 47,\n",
       " 83,\n",
       " 19,\n",
       " 34,\n",
       " 16,\n",
       " 20,\n",
       " 93,\n",
       " 81,\n",
       " 54,\n",
       " 26,\n",
       " 33,\n",
       " 84,\n",
       " 54,\n",
       " 13,\n",
       " 50,\n",
       " 82,\n",
       " 62,\n",
       " 3,\n",
       " 71,\n",
       " 49,\n",
       " 29,\n",
       " 2,\n",
       " 27,\n",
       " 85,\n",
       " 90,\n",
       " 13,\n",
       " 40,\n",
       " 38,\n",
       " 24,\n",
       " 15,\n",
       " 82,\n",
       " 20,\n",
       " 79,\n",
       " 56,\n",
       " 46,\n",
       " 0,\n",
       " 85,\n",
       " 40,\n",
       " 29,\n",
       " 46,\n",
       " 93,\n",
       " 83,\n",
       " 31,\n",
       " 43,\n",
       " 47,\n",
       " 25,\n",
       " 25,\n",
       " 27,\n",
       " 64,\n",
       " 81,\n",
       " 95,\n",
       " 18,\n",
       " 21,\n",
       " 46,\n",
       " 40,\n",
       " 51,\n",
       " 20,\n",
       " 91,\n",
       " 80,\n",
       " 83,\n",
       " 19,\n",
       " 66,\n",
       " 82,\n",
       " 32,\n",
       " 100,\n",
       " 0,\n",
       " 39,\n",
       " 94,\n",
       " 47,\n",
       " 22,\n",
       " 37,\n",
       " 40,\n",
       " 30,\n",
       " 69,\n",
       " 7,\n",
       " 43,\n",
       " 5,\n",
       " 83,\n",
       " 37,\n",
       " 8,\n",
       " 6,\n",
       " 62,\n",
       " 4,\n",
       " 16,\n",
       " 88,\n",
       " 40,\n",
       " 37,\n",
       " 99,\n",
       " 83,\n",
       " 88,\n",
       " 30,\n",
       " 53,\n",
       " 78,\n",
       " 66,\n",
       " 88,\n",
       " 6,\n",
       " 37,\n",
       " 16,\n",
       " 48,\n",
       " 69,\n",
       " 100,\n",
       " 84,\n",
       " 72,\n",
       " 33,\n",
       " 37,\n",
       " 75,\n",
       " 84,\n",
       " 25,\n",
       " 16,\n",
       " 71,\n",
       " 97,\n",
       " 100,\n",
       " 14,\n",
       " 85,\n",
       " 72,\n",
       " 64,\n",
       " 29,\n",
       " 75,\n",
       " 45,\n",
       " 26,\n",
       " 57,\n",
       " 79,\n",
       " 48,\n",
       " 59,\n",
       " 75,\n",
       " 17,\n",
       " 80,\n",
       " 92,\n",
       " 45,\n",
       " 28,\n",
       " 33,\n",
       " 76,\n",
       " 48,\n",
       " 94,\n",
       " 100,\n",
       " 1,\n",
       " 12,\n",
       " 24,\n",
       " 60,\n",
       " 33,\n",
       " 63,\n",
       " 76,\n",
       " 94,\n",
       " 56,\n",
       " 63,\n",
       " 95,\n",
       " 85,\n",
       " 94,\n",
       " 27]"
      ]
     },
     "execution_count": 72,
     "metadata": {},
     "output_type": "execute_result"
    }
   ],
   "source": [
    "#Marks Analysis\n",
    "#Class Average\n",
    "#% of Passed,Failed,Distinction\n",
    "#Frequency of Heighest&lowest Mary\n",
    "def readMarksList(filepath):\n",
    "    with open(filepath,'r') as f:\n",
    "        filedata=f.read().split()\n",
    "    return list(map(int,filedata))\n",
    "def classAverage(filepath):\n",
    "    with open(filepath,'r') as f:\n",
    "        filedata=f.read().split()\n",
    "        #markslist=re.split('\\n',filedata)\n",
    "    markslist=list(map(int,filedata))\n",
    "    return sum(markslist)//len(markslist)\n",
    "filepath=\"DataFiles/marks.txt\"\n",
    "#classAverage(filepath)\n",
    "readMarksList(filepath)"
   ]
  },
  {
   "cell_type": "code",
   "execution_count": 79,
   "metadata": {},
   "outputs": [
    {
     "data": {
      "text/plain": [
       "0.41333333333333333"
      ]
     },
     "execution_count": 79,
     "metadata": {},
     "output_type": "execute_result"
    }
   ],
   "source": [
    "def percentageFailed(filename):\n",
    "    markslist=readMarksList(filepath)\n",
    "    failedcount=len(list(filter(lambda mark : mark < 40,markslist)))\n",
    "    return (failedcount/len(markslist))\n",
    "percentageFailed(filepath)"
   ]
  },
  {
   "cell_type": "code",
   "execution_count": 78,
   "metadata": {},
   "outputs": [
    {
     "data": {
      "text/plain": [
       "99.58666666666667"
      ]
     },
     "execution_count": 78,
     "metadata": {},
     "output_type": "execute_result"
    }
   ],
   "source": [
    "def percentagePassed(filepath):\n",
    "    return 100-percentageFailed(filepath)\n",
    "percentagePassed(filepath)"
   ]
  },
  {
   "cell_type": "code",
   "execution_count": 82,
   "metadata": {},
   "outputs": [
    {
     "data": {
      "text/plain": [
       "0.3333333333333333"
      ]
     },
     "execution_count": 82,
     "metadata": {},
     "output_type": "execute_result"
    }
   ],
   "source": [
    "def percentageDistinction(filename):\n",
    "    markslist=readMarksList(filepath)\n",
    "    distinctioncount=len(list(filter(lambda mark : mark > 70,markslist)))\n",
    "    return (distinctioncount/len(markslist))\n",
    "percentageDistinction(filepath)"
   ]
  },
  {
   "cell_type": "code",
   "execution_count": 84,
   "metadata": {},
   "outputs": [
    {
     "data": {
      "text/plain": [
       "[8, 100]"
      ]
     },
     "execution_count": 84,
     "metadata": {},
     "output_type": "execute_result"
    }
   ],
   "source": [
    "def heighestMarkFrequency(filepath):\n",
    "    markslist=readMarksList(filepath)\n",
    "    return [markslist.count(max(markslist)),max(markslist)]\n",
    "heighestMarkFrequency(filepath)"
   ]
  },
  {
   "cell_type": "code",
   "execution_count": 85,
   "metadata": {},
   "outputs": [
    {
     "data": {
      "text/plain": [
       "[4, 0]"
      ]
     },
     "execution_count": 85,
     "metadata": {},
     "output_type": "execute_result"
    }
   ],
   "source": [
    "def lowestMarkFrequency(filepath):\n",
    "    markslist=readMarksList(filepath)\n",
    "    return [markslist.count(min(markslist)),min(markslist)]\n",
    "lowestMarkFrequency(filepath)"
   ]
  },
  {
   "cell_type": "code",
   "execution_count": null,
   "metadata": {},
   "outputs": [],
   "source": []
  },
  {
   "cell_type": "markdown",
   "metadata": {},
   "source": [
    "### Data Encryption\n",
    "\n",
    "Key - Mapping of characters with replaced\n",
    "\n",
    "0 ->4\n",
    "1 ->5\n",
    "2 ->6\n",
    "3 ->7\n",
    "4 ->8\n",
    "5 ->9\n",
    "6 ->0\n",
    "7 ->1\n",
    "8 ->2\n",
    "9 ->3"
   ]
  },
  {
   "cell_type": "code",
   "execution_count": 86,
   "metadata": {},
   "outputs": [],
   "source": [
    "# Function to generate key for encryption\n",
    "keypath=\"DataFiles/key.txt\"\n",
    "\n",
    "def generateKey(keypath):\n",
    "    with open(keypath,'w') as f:\n",
    "        for i in range(10):\n",
    "            if i<6:\n",
    "                f.write(str(i)+' '+str(i+4)+'\\n')\n",
    "            else:\n",
    "                f.write(str(i)+' '+str(i-6)+'\\n')\n",
    "    return\n",
    "generateKey(keypath)"
   ]
  },
  {
   "cell_type": "code",
   "execution_count": 90,
   "metadata": {},
   "outputs": [
    {
     "data": {
      "text/plain": [
       "{'0': '4',\n",
       " '1': '5',\n",
       " '2': '6',\n",
       " '3': '7',\n",
       " '4': '8',\n",
       " '5': '9',\n",
       " '6': '0',\n",
       " '7': '1',\n",
       " '8': '2',\n",
       " '9': '3'}"
      ]
     },
     "execution_count": 90,
     "metadata": {},
     "output_type": "execute_result"
    }
   ],
   "source": [
    "#Function to encrypt a data file\n",
    "def dictionaryKeyFile(keyfile):\n",
    "    key={}\n",
    "    with open(keyfile,'r') as f:\n",
    "        for line in f:\n",
    "            line=line.split()\n",
    "            key[line[0]]=line[1]\n",
    "    return key\n",
    "keyfile=\"DataFiles/key.txt\"\n",
    "dictionaryKeyFile(keyfile)\n",
    "#def encryptMarksData(datafile,keyfile):\n",
    "    #Construct a dictionary for key data"
   ]
  },
  {
   "cell_type": "code",
   "execution_count": null,
   "metadata": {},
   "outputs": [],
   "source": []
  }
 ],
 "metadata": {
  "kernelspec": {
   "display_name": "Python 3",
   "language": "python",
   "name": "python3"
  },
  "language_info": {
   "codemirror_mode": {
    "name": "ipython",
    "version": 3
   },
   "file_extension": ".py",
   "mimetype": "text/x-python",
   "name": "python",
   "nbconvert_exporter": "python",
   "pygments_lexer": "ipython3",
   "version": "3.7.3"
  }
 },
 "nbformat": 4,
 "nbformat_minor": 2
}
