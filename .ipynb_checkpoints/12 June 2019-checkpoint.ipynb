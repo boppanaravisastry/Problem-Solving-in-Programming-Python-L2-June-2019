{
 "cells": [
  {
   "cell_type": "markdown",
   "metadata": {},
   "source": [
    "# Problem Solving and Programming\n",
    "\n",
    "\n"
   ]
  },
  {
   "cell_type": "markdown",
   "metadata": {},
   "source": [
    "### Date 12 June 2019\n",
    "\n",
    "### Day Objective\n",
    "\n",
    "- String Slicing\n",
    "- Functions in Python\n",
    "- Basic Problems related to Conditional statements using functions\n",
    "- Iteration in Python\n",
    "- Python Data Structures-Lists,Tuples and Dictionaries\n",
    " - Basic Operations and data Structures\n",
    " - Applying Data Structures  to solve problems."
   ]
  },
  {
   "cell_type": "code",
   "execution_count": null,
   "metadata": {},
   "outputs": [],
   "source": []
  },
  {
   "cell_type": "markdown",
   "metadata": {},
   "source": [
    "### String Slicing"
   ]
  },
  {
   "cell_type": "code",
   "execution_count": 6,
   "metadata": {},
   "outputs": [
    {
     "data": {
      "text/plain": [
       "'jbekbqfeobbsnhy'"
      ]
     },
     "execution_count": 6,
     "metadata": {},
     "output_type": "execute_result"
    }
   ],
   "source": [
    "s1 = \"Pythondsfbubwobebfjqebfkjewbfj\"\n",
    "s1[0] # Accessing the first character in a string\n",
    "s1[1] #Accessing the second character in a string\n",
    "s1[len(s1)-1]  #Accessing the last character in a string\n",
    "s1[-1] #Another way of accessing the last chareacter\n",
    "s1[-2] #Accessing the penultimate character of a string\n",
    "\n",
    "s1[0:2] # Accessing the first two characters\n",
    "\n",
    "s1[-2:] # Accessing the last two characters in a string\n",
    "\n",
    "s1[4:] # Accessing the all characters 5 th to end of string\n",
    "\n",
    "s1[1:-1]#Accessing all characters except first and last character\n",
    "\n",
    "s1[len(s1)//2]#Accessing a middle character\n",
    "\n",
    "s1[-1::-1]# Reverse of a string\n",
    "\n",
    "s1[-1:-3:-1]#Accessing last two characters in reverse of a string\n",
    "\n",
    "s1[len(s1)//2:len(s1)//2-2:-1]# Reverse the middle two characters in an even length string\n",
    "\n",
    "# Accessing alternate characters in a string\n",
    "# \"Python\"\n",
    "s1[::2]\n",
    "#Accessing alternate characters of a string in reverse of string\n",
    "#\"Python\" ->\"nhy\"\n",
    "s1[::-2]"
   ]
  },
  {
   "cell_type": "code",
   "execution_count": null,
   "metadata": {},
   "outputs": [],
   "source": []
  },
  {
   "cell_type": "markdown",
   "metadata": {},
   "source": [
    "### Functions"
   ]
  },
  {
   "cell_type": "code",
   "execution_count": 7,
   "metadata": {},
   "outputs": [
    {
     "data": {
      "text/plain": [
       "'nohtyP'"
      ]
     },
     "execution_count": 7,
     "metadata": {},
     "output_type": "execute_result"
    }
   ],
   "source": [
    "#function to reverse a string\n",
    "def reverseString(s):\n",
    "    return s[::-1]\n",
    "reverseString(\"Python\")"
   ]
  },
  {
   "cell_type": "code",
   "execution_count": 10,
   "metadata": {},
   "outputs": [
    {
     "data": {
      "text/plain": [
       "True"
      ]
     },
     "execution_count": 10,
     "metadata": {},
     "output_type": "execute_result"
    }
   ],
   "source": [
    "#Function to check if a string is a palindrome\n",
    "def palindrome(s):\n",
    "    if s==s[::-1]:\n",
    "        return True\n",
    "    else:\n",
    "        return False\n",
    "palindrome(\"madam\")"
   ]
  },
  {
   "cell_type": "code",
   "execution_count": 13,
   "metadata": {},
   "outputs": [
    {
     "data": {
      "text/plain": [
       "True"
      ]
     },
     "execution_count": 13,
     "metadata": {},
     "output_type": "execute_result"
    }
   ],
   "source": [
    "# Function to check if a given year is a leap year\n",
    "def leapYear(year):\n",
    "    if year%400 == 0 or (year%100!=0 and year%4==0):\n",
    "        return True\n",
    "    return False\n",
    "leapYear(2020)"
   ]
  },
  {
   "cell_type": "code",
   "execution_count": 14,
   "metadata": {},
   "outputs": [
    {
     "data": {
      "text/plain": [
       "4"
      ]
     },
     "execution_count": 14,
     "metadata": {},
     "output_type": "execute_result"
    }
   ],
   "source": [
    "# Function to count the number of digits in a given number\n",
    "def countTheNumber(n):\n",
    "    s=len(str(n))\n",
    "    return s\n",
    "countTheNumber(1234)"
   ]
  },
  {
   "cell_type": "code",
   "execution_count": 15,
   "metadata": {},
   "outputs": [
    {
     "data": {
      "text/plain": [
       "234"
      ]
     },
     "execution_count": 15,
     "metadata": {},
     "output_type": "execute_result"
    }
   ],
   "source": [
    "# Function to identify the greatest of 4 numbers\n",
    "def greatestFourNumber(n1,n2,n3,n4):\n",
    "    if n1>n2 and n1>n3 and n1>n4:\n",
    "        return n1\n",
    "    elif n2>n3 and n2>n4:\n",
    "        return n2\n",
    "    elif n3>n4:\n",
    "        return n3\n",
    "    else:\n",
    "        return n4\n",
    "greatestFourNumber(123,234,11,34)"
   ]
  },
  {
   "cell_type": "code",
   "execution_count": null,
   "metadata": {},
   "outputs": [],
   "source": []
  },
  {
   "cell_type": "markdown",
   "metadata": {},
   "source": [
    "### Iteration\n",
    "- for\n",
    "- while"
   ]
  },
  {
   "cell_type": "code",
   "execution_count": 19,
   "metadata": {},
   "outputs": [
    {
     "name": "stdout",
     "output_type": "stream",
     "text": [
      "1 2 3 4 5 6 7 8 9 10 11 12 13 14 15 16 17 18 19 20 "
     ]
    }
   ],
   "source": [
    "# Function to print n natural numbers\n",
    "\n",
    "def printNNaturalNumbers(n):\n",
    "    for i in range(1,n+1):\n",
    "        print(i,end=\" \")\n",
    "    return\n",
    "printNNaturalNumbers(20)"
   ]
  },
  {
   "cell_type": "code",
   "execution_count": 20,
   "metadata": {},
   "outputs": [
    {
     "name": "stdout",
     "output_type": "stream",
     "text": [
      "2 4 6 8 10 12 14 16 18 20 "
     ]
    }
   ],
   "source": [
    "# Function to print n natural number only even numbers\n",
    "\n",
    "def printNNaturalNumbers(n):\n",
    "    for i in range(1,n+1):\n",
    "        if i%2==0:\n",
    "            print(i,end=\" \")\n",
    "    return\n",
    "printNNaturalNumbers(20)"
   ]
  },
  {
   "cell_type": "code",
   "execution_count": 21,
   "metadata": {},
   "outputs": [
    {
     "name": "stdout",
     "output_type": "stream",
     "text": [
      "1 2 3 4 5 6 7 8 9 "
     ]
    }
   ],
   "source": [
    "# Function to print N Natural numbers using a while loop\n",
    "def nNaturalNumbers(n):\n",
    "    i=1\n",
    "    while i<=n: \n",
    "        print(i,end=\" \")\n",
    "        i+=1\n",
    "    return\n",
    "nNaturalNumbers(9)"
   ]
  },
  {
   "cell_type": "code",
   "execution_count": 23,
   "metadata": {},
   "outputs": [
    {
     "name": "stdout",
     "output_type": "stream",
     "text": [
      "12 18 24 30 36 42 48 54 60 66 72 78 84 90 96 102 108 114 120 126 132 138 144 150 156 162 168 174 180 186 192 198 204 210 216 222 228 234 240 246 252 258 264 270 276 282 288 294 306 312 318 324 330 336 342 348 354 360 366 372 378 384 390 396 402 408 414 420 426 432 438 444 450 456 462 468 474 480 486 492 498 504 510 516 522 528 534 540 546 552 558 564 570 576 582 588 594 606 612 618 624 630 636 642 648 654 660 666 672 678 684 690 696 702 708 714 720 726 732 738 744 750 756 762 768 774 780 786 792 798 804 810 816 822 828 834 840 846 852 858 864 870 876 882 888 894 906 912 918 924 930 936 942 948 954 960 966 972 978 984 990 996 "
     ]
    }
   ],
   "source": [
    " # Function to print all numbers divisiable by 6 and \n",
    "# not a factor of 100 in a given range(lb,ub) inclusive\n",
    "\n",
    "def divisiableFactors(lb,ub):\n",
    "    for i in range(lb,ub):\n",
    "        if i%6==0 and i%100!=0:\n",
    "            print(i,end=\" \")\n",
    "    return\n",
    "divisiableFactors(10,1000)"
   ]
  },
  {
   "cell_type": "code",
   "execution_count": 28,
   "metadata": {},
   "outputs": [
    {
     "name": "stdout",
     "output_type": "stream",
     "text": [
      "1.0\n"
     ]
    }
   ],
   "source": [
    "# Function to find the average of cubes of all even numbers\n",
    "# in a given range(lb,ub) inclusive\n",
    "\n",
    "def averageOfCubes(lb,ub):\n",
    "    sum=0\n",
    "    count=0\n",
    "    for i in range(lb,ub):\n",
    "        if i%2==0:\n",
    "            sum+=1\n",
    "            count+=1\n",
    "            print(i)\n",
    "    #avg=sum/count\n",
    "    #print(avg)\n",
    "    \n",
    "averageOfCubes(3,6)\n",
    "            \n",
    "            "
   ]
  },
  {
   "cell_type": "code",
   "execution_count": null,
   "metadata": {},
   "outputs": [],
   "source": [
    "# Function to Generate the list of factors for a given number\n",
    "# 12->1 2 3 4 6 12"
   ]
  },
  {
   "cell_type": "code",
   "execution_count": null,
   "metadata": {},
   "outputs": [],
   "source": [
    "# Function to calculate the factorial of a given number"
   ]
  },
  {
   "cell_type": "code",
   "execution_count": null,
   "metadata": {},
   "outputs": [],
   "source": [
    "# Function to check if a given number is prime"
   ]
  },
  {
   "cell_type": "code",
   "execution_count": null,
   "metadata": {},
   "outputs": [],
   "source": [
    "# Function to calculate the average first  N prime Numbers "
   ]
  },
  {
   "cell_type": "code",
   "execution_count": null,
   "metadata": {},
   "outputs": [],
   "source": [
    "# Function to generate all Perfect numbers in a given range"
   ]
  }
 ],
 "metadata": {
  "kernelspec": {
   "display_name": "Python 3",
   "language": "python",
   "name": "python3"
  },
  "language_info": {
   "codemirror_mode": {
    "name": "ipython",
    "version": 3
   },
   "file_extension": ".py",
   "mimetype": "text/x-python",
   "name": "python",
   "nbconvert_exporter": "python",
   "pygments_lexer": "ipython3",
   "version": "3.7.3"
  }
 },
 "nbformat": 4,
 "nbformat_minor": 2
}
