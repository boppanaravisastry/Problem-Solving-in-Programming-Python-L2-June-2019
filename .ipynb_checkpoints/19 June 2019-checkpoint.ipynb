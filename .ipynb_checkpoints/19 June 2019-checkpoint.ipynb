{
 "cells": [
  {
   "cell_type": "code",
   "execution_count": null,
   "metadata": {},
   "outputs": [],
   "source": []
  },
  {
   "cell_type": "code",
   "execution_count": 3,
   "metadata": {},
   "outputs": [
    {
     "name": "stdout",
     "output_type": "stream",
     "text": [
      "2\n",
      "3\n",
      "A\n",
      "5\n",
      "A\n"
     ]
    }
   ],
   "source": [
    "# Lift Queries\n",
    "a=0\n",
    "b=7\n",
    "t=int(input())\n",
    "for i in range(t):\n",
    "    n=int(input())\n",
    "    lifta=abs(a-n)\n",
    "    liftb=abs(b-a)\n",
    "    if lifta<=liftb:\n",
    "        print(\"A\")\n",
    "        a=n\n",
    "    else:\n",
    "        print(\"B\")\n",
    "        b=n"
   ]
  },
  {
   "cell_type": "code",
   "execution_count": 5,
   "metadata": {},
   "outputs": [
    {
     "name": "stdout",
     "output_type": "stream",
     "text": [
      "180\n",
      "3\n",
      "640 480\n",
      "CROP IT\n",
      "120 300\n",
      "UPLOAD ANOTHER\n",
      "180 180\n",
      "ACCEPTED\n"
     ]
    }
   ],
   "source": [
    "#Roy and Profile Picture\n",
    "line=int(input())\n",
    "n=int(input())\n",
    "for i in range(n):\n",
    "    width,height=list(map(int,input().split()))\n",
    "    if width<line or height<line:\n",
    "        print(\"UPLOAD ANOTHER\")\n",
    "    elif width>=line and height>=line:\n",
    "        if width==height:\n",
    "            print(\"ACCEPTED\")\n",
    "        else:\n",
    "            print(\"CROP IT\")"
   ]
  },
  {
   "cell_type": "code",
   "execution_count": 2,
   "metadata": {},
   "outputs": [
    {
     "name": "stdout",
     "output_type": "stream",
     "text": [
      "5\n",
      "1 2 3 4 5\n",
      "120\n"
     ]
    }
   ],
   "source": [
    "# Find Product\n",
    "n=int(input())\n",
    "l=list(map(int,input().split()))\n",
    "a=1 \n",
    "for i in l:\n",
    "    a=(a*i)  % ((10**9)+7)\n",
    "print(a)"
   ]
  },
  {
   "cell_type": "code",
   "execution_count": 3,
   "metadata": {},
   "outputs": [
    {
     "name": "stdout",
     "output_type": "stream",
     "text": [
      "13\n",
      "Motu\n"
     ]
    }
   ],
   "source": [
    "# Bricks Game\n",
    "s=int(input())\n",
    "r=0\n",
    "t=1\n",
    "while r<=s:\n",
    "    r+=(t+t*2)\n",
    "    t+=1\n",
    "res=r-(t-1)*2\n",
    "if res>s:\n",
    "    print(\"Patlu\")\n",
    "else:\n",
    "    print(\"Motu\")"
   ]
  },
  {
   "cell_type": "code",
   "execution_count": 9,
   "metadata": {},
   "outputs": [
    {
     "name": "stdout",
     "output_type": "stream",
     "text": [
      "4\n",
      "*   *\n",
      "*   *\n",
      "****\n",
      "*   *\n",
      "*   *\n",
      "****\n",
      "*   *\n",
      "*   *\n",
      "****\n",
      "*   *\n",
      "*   *\n",
      "****\n",
      "*   *\n",
      "*   *\n"
     ]
    }
   ],
   "source": [
    "# Ladderophilia\n",
    "n=int(input())\n",
    "print(\"*\",\"*\",sep=\"   \")\n",
    "print(\"*\",\"*\",sep=\"   \")\n",
    "for i in range(n):\n",
    "    print(\"*\"*5)\n",
    "    print(\"*\",\"*\",sep=\"   \")\n",
    "    print(\"*\",\"*\",sep=\"   \")"
   ]
  },
  {
   "cell_type": "code",
   "execution_count": 1,
   "metadata": {},
   "outputs": [
    {
     "name": "stdout",
     "output_type": "stream",
     "text": [
      "Hello Kirti\n"
     ]
    }
   ],
   "source": [
    "#Hello\n",
    "print(\"Hello Kirti\")"
   ]
  },
  {
   "cell_type": "code",
   "execution_count": null,
   "metadata": {},
   "outputs": [],
   "source": []
  }
 ],
 "metadata": {
  "kernelspec": {
   "display_name": "Python 3",
   "language": "python",
   "name": "python3"
  },
  "language_info": {
   "codemirror_mode": {
    "name": "ipython",
    "version": 3
   },
   "file_extension": ".py",
   "mimetype": "text/x-python",
   "name": "python",
   "nbconvert_exporter": "python",
   "pygments_lexer": "ipython3",
   "version": "3.7.3"
  }
 },
 "nbformat": 4,
 "nbformat_minor": 2
}
