{
 "cells": [
  {
   "cell_type": "markdown",
   "metadata": {},
   "source": [
    "#### Regular Expressions\n",
    "\n",
    "- Pattern Matching\n",
    "- Symbolic Notation of a pattern\n",
    "    - Pattern : Format which repeats\n",
    "    - Pattern(RE) represents The set of all strings match that pattern\n",
    "- **[0-9]** -> Any digit\n",
    "- **[a-z]** -> Any lowercase alphabet\n",
    "- **[A-Z]** -> Any Uppercase alphabet\n",
    "- **[2468]** -> All single digit multiples of 2\n",
    "- **^[0-9]{1}$** -> Single digit numbers\n",
    "\n",
    "- **^[0-9]{2}$** -> Two digit numbers\n",
    "\n",
    "- **^[0-9]{3}$** -> Three digit numbers\n",
    "\n",
    "- **^[0-9]{3}** -> removes $ symbol first three digits matching\n",
    "\n",
    "- **[0-9]{3}$** -> removes ^ symbol last three digits matching\n",
    "\n",
    "- **[0-9]*0$** -> End of the Zero matches \n",
    "\n",
    "- **^[1-9][0-9]*[05]$ | ^([5])$**       -> All Multiples of 5\n",
    "\n",
    "- **^[1-9]{1}[0-9]{9}$  -> All 10 digits numbers\n",
    "\n",
    "- **[p][r][i][n][t] or (print)** -> searching the print matching\n",
    "\n",
    "- **^[6-9][0-9]{9}$ | ^[0][6-9][0-9]{9}$| ^[+][9][1][6-9][0-9]{9}$**     -> Validating phone number(india)(start with[9876])\n",
    "\n",
    "-  **^[0-9a-z][0-9a-z_.]{4,13}[0-9a-z][@][a-z0-9]{3,18}[.][a-z]{2,4}$ **         -> Email Validation(username@domain.extension)\n",
    "        - username\n",
    "           - Length of username : [6,15]\n",
    "           - No special characters other than _.\n",
    "           - Should not begin and end with _.\n",
    "           - Character Set : all digits and lowecase alphabet\n",
    "        - domain\n",
    "            - Length of domain : [3,15]\n",
    "            - No special characters\n",
    "            - Character Set : all digits and lowercase alphabet\n",
    "        - extension\n",
    "            - Length of extension : [2,4]\n",
    "            - No special characters\n",
    "            - Character Set :  lowercase alphabet\n",
    "- ^[a]...[z]$ -> Any string of lenght 5 that starts with a and ends with z\n"
   ]
  },
  {
   "cell_type": "code",
   "execution_count": 30,
   "metadata": {},
   "outputs": [
    {
     "data": {
      "text/plain": [
       "True"
      ]
     },
     "execution_count": 30,
     "metadata": {},
     "output_type": "execute_result"
    }
   ],
   "source": [
    "#Function to validate a phone number\n",
    "import re\n",
    "def validatePhoneNumber(number):\n",
    "    pattern=\"^[6-9][0-9]{9}$|^[0][6-9][0-9]{9}$|^[+][9][1][6-9][0-9]{9}$\"\n",
    "    if re.match(pattern,str(number)):\n",
    "        return True\n",
    "    else:\n",
    "        return False\n",
    "    return\n",
    "validatePhoneNumber(9505060477)\n",
    "\n",
    "def emailValidator(email):\n",
    "    pattern=\"^[0-9a-z][0-9a-z_.]{4,13}[0-9a-z][@][a-z0-9]{3,18}[.][a-z]{2,4}$\"\n",
    "    if re.match(pattern,email):\n",
    "        return True\n",
    "    return False\n",
    "emailValidator(\"ravi._2d@gmail.com\")"
   ]
  },
  {
   "cell_type": "code",
   "execution_count": 34,
   "metadata": {},
   "outputs": [
    {
     "name": "stdout",
     "output_type": "stream",
     "text": [
      "name4 added sucessfully\n"
     ]
    }
   ],
   "source": [
    "#contacts={\"name1\":[9505060477,'ravisastry.b@apssdc.in'],\"name2\":[7036411571,'boppanaravisastry@gmail.com']}\n",
    "#Add Contact\n",
    "contacts={}\n",
    "def addContact(name,phone,email):\n",
    "    #Verify the contact doesnot already exist\n",
    "    if name in contacts:\n",
    "        print(\"name already exists.\")\n",
    "    else:\n",
    "        if not validatePhoneNumber(phone):\n",
    "            print(\"Invalid phone\")\n",
    "            return\n",
    "        if not emailValidator(email):\n",
    "            print(\"Invalid Email address\")\n",
    "            return\n",
    "        newcontact =[]\n",
    "        newcontact.append(phone)\n",
    "        newcontact.append(email)\n",
    "        contacts[name]=newcontact\n",
    "        print(name,\"added sucessfully\")\n",
    "    return\n",
    "addContact(\"name4\",9505060477,\"sdbf.ajn@apssdc.in\")"
   ]
  },
  {
   "cell_type": "code",
   "execution_count": 36,
   "metadata": {},
   "outputs": [
    {
     "name": "stdout",
     "output_type": "stream",
     "text": [
      "name4\n",
      "phone : 9505060477\n",
      "email : sdbf.ajn@apssdc.in\n"
     ]
    }
   ],
   "source": [
    "# Search Contact\n",
    "def searchContacts(name):\n",
    "    if name in contacts:\n",
    "        print(name)\n",
    "        print(\"phone :\", contacts[name][0])\n",
    "        print(\"email :\", contacts[name][1])\n",
    "    else:\n",
    "        print(\"%s does not exists\"% name)\n",
    "searchContacts(\"name4\")"
   ]
  },
  {
   "cell_type": "code",
   "execution_count": 42,
   "metadata": {},
   "outputs": [
    {
     "name": "stdout",
     "output_type": "stream",
     "text": [
      "2 contacts added successfully\n"
     ]
    }
   ],
   "source": [
    "def importContacts(newContacts):\n",
    "    contacts.update(newContacts)\n",
    "    print(len(newContacts.keys()),\"contacts added successfully\")\n",
    "    return\n",
    "newContacts = {\"name2\":[6495619522,\"ravi@gmail.com\"] ,\"name3\":[13847126424,\"ravi.bb@apssdc.in\"]}\n",
    "importContacts(newContacts)"
   ]
  },
  {
   "cell_type": "code",
   "execution_count": 45,
   "metadata": {},
   "outputs": [
    {
     "data": {
      "text/plain": [
       "{'name4': [9505060477, 'sdbf.ajn@apssdc.in'],\n",
       " 'name2': [6495619522, 'ravi@gmail.com'],\n",
       " 'name3': [13847126424, 'ravi.bb@apssdc.in']}"
      ]
     },
     "execution_count": 45,
     "metadata": {},
     "output_type": "execute_result"
    }
   ],
   "source": [
    "contacts\n"
   ]
  },
  {
   "cell_type": "code",
   "execution_count": 47,
   "metadata": {},
   "outputs": [
    {
     "name": "stdout",
     "output_type": "stream",
     "text": [
      "{'name4': [9505060477, 'sdbf.ajn@apssdc.in'], 'name2': [6495619522, 'ravi@gmail.com'], 'name3': [13847126424, 'ravi.bb@apssdc.in']}\n"
     ]
    }
   ],
   "source": [
    "# List of all Contacts\n",
    "def listAllContacts(contacts):\n",
    "    for contact,info in contacts.items():\n",
    "        print(contact, \"\\n\" ,\"Phone:\", info[0], \"\\n\" , \"Email:\",info[1])\n",
    "    \n",
    "listOfAllContacts(contacts)"
   ]
  },
  {
   "cell_type": "code",
   "execution_count": null,
   "metadata": {},
   "outputs": [],
   "source": [
    "# Function to edit contact information\n",
    "def editContact"
   ]
  },
  {
   "cell_type": "markdown",
   "metadata": {},
   "source": [
    "#### File Handling in Python\n",
    "\n",
    "File - Document containing information residing on the permanent storage\n",
    "Types - Text,pdf,csv,png,jpg\n",
    "\n",
    "File I/O - Channelling I/O data to files \n",
    "\n",
    "Default I/O Channels - Keyboard / Screen\n",
    "\n",
    "Change I/O channel to files for Reading and writing into files\n",
    "\n",
    "Read a file - Input from file\n",
    "\n",
    "Write to a file - Output to a file\n",
    "\n",
    "Read/ write  file - open(filename,mode)\n",
    "\n"
   ]
  },
  {
   "cell_type": "code",
   "execution_count": 54,
   "metadata": {},
   "outputs": [
    {
     "name": "stdout",
     "output_type": "stream",
     "text": [
      "line1\n",
      "line2\n",
      "line3"
     ]
    }
   ],
   "source": [
    "# Function to read a file \n",
    "def readFile(filename):\n",
    "    f=open(filename,'r')\n",
    "    filedata=f.read()\n",
    "    f.close()\n",
    "    return filedata\n",
    "filename=\"DataFiles/data.txt\"\n",
    "#for line in readFile(filename).split('\\n'):\n",
    "#   print(line)\n",
    "def printFileDataLines(filename):\n",
    "    f=open(filename,'r')\n",
    "    for line in f:\n",
    "        print(line,end='')\n",
    "    return\n",
    "printFileDataLines(filename)"
   ]
  },
  {
   "cell_type": "code",
   "execution_count": 57,
   "metadata": {},
   "outputs": [],
   "source": [
    "# Function to write data into a file\n",
    "\n",
    "def writeIntoFile(filename,filedata):\n",
    "    with open(filename,'w') as f:\n",
    "        f.write(filedata)\n",
    "    return\n",
    "filename='DataFiles/data.txt'\n",
    "writeIntoFile(filename,\"new data\\n\")"
   ]
  },
  {
   "cell_type": "code",
   "execution_count": 60,
   "metadata": {},
   "outputs": [],
   "source": [
    "# Function to append data to a file\n",
    "\n",
    "def appendDataToFile(filename,filedata):\n",
    "    with open(filename,'a') as f:\n",
    "        f.write(filedata)\n",
    "    return\n",
    "filedata=\"new line\\nnew line\"\n",
    "appendDataToFile(filename,filedata)"
   ]
  },
  {
   "cell_type": "code",
   "execution_count": null,
   "metadata": {},
   "outputs": [],
   "source": []
  }
 ],
 "metadata": {
  "kernelspec": {
   "display_name": "Python 3",
   "language": "python",
   "name": "python3"
  },
  "language_info": {
   "codemirror_mode": {
    "name": "ipython",
    "version": 3
   },
   "file_extension": ".py",
   "mimetype": "text/x-python",
   "name": "python",
   "nbconvert_exporter": "python",
   "pygments_lexer": "ipython3",
   "version": "3.7.3"
  }
 },
 "nbformat": 4,
 "nbformat_minor": 2
}
