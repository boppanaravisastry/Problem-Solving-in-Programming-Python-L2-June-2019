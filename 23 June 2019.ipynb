{
 "cells": [
  {
   "cell_type": "code",
   "execution_count": 7,
   "metadata": {},
   "outputs": [
    {
     "data": {
      "text/plain": [
       "['new', 'data', 'line', 'bfiuwfbiuwbf']"
      ]
     },
     "execution_count": 7,
     "metadata": {},
     "output_type": "execute_result"
    }
   ],
   "source": [
    "# Function to get unique elements in a list\n",
    "\n",
    "# [1,2,3,3,2,1] -> [1,2,3]\n",
    "# Create a empty unique list [1,2,3]\n",
    "\n",
    "def uniqueData(filename):\n",
    "    # Create an empty unique list\n",
    "    allwords=wordFromFile(filename)\n",
    "    unique = []    \n",
    "    # For every element in the main list, \n",
    "        # check if it exists in the unique list.\n",
    "        # If it does not exist, add it to unique list\n",
    "        # else if it already exists, move on to the next element in the main list   \n",
    "    for element in allwords:\n",
    "        if element not in unique:\n",
    "            unique.append(element)\n",
    "    return unique\n",
    "\n",
    "#li = [1,2,3,3,2,1]\n",
    "\n",
    "uniqueData('DataFiles/data.txt')"
   ]
  },
  {
   "cell_type": "code",
   "execution_count": 4,
   "metadata": {},
   "outputs": [
    {
     "name": "stdout",
     "output_type": "stream",
     "text": [
      "new data\n",
      "new line\n",
      "bfiuwfbiuwbf\n"
     ]
    }
   ],
   "source": [
    "# Read a File - File should exist(Read Mode)\n",
    "# Write to a File - Existing(append mode) or New File(Write mode)\n",
    "\n",
    "# Function to read entire file data into a single string - Character Processing\n",
    "def readFile(filepath):\n",
    "    with open(filepath, 'r') as f:\n",
    "        filedata = f.read() # Reads the entire file data into a string\n",
    "    return filedata\n",
    "\n",
    "filepath = 'DataFiles/data.txt'\n",
    "print(readFile(filepath))"
   ]
  },
  {
   "cell_type": "code",
   "execution_count": 5,
   "metadata": {},
   "outputs": [
    {
     "data": {
      "text/plain": [
       "['new', 'data', 'new', 'line', 'bfiuwfbiuwbf']"
      ]
     },
     "execution_count": 5,
     "metadata": {},
     "output_type": "execute_result"
    }
   ],
   "source": [
    "# Function to count the number of words in a file\n",
    "import re\n",
    "\n",
    "def wordCountFile(filename):\n",
    "    pattern = '[ \\n]'\n",
    "    filedata = readFile(filename)\n",
    "    count = len(re.split(pattern, filedata))\n",
    "    return count\n",
    "filename='DataFiles/data.txt'\n",
    "#wordCountFile(filename)\n",
    "\n",
    "def wordFromFile(filename):\n",
    "    pattern = '[ \\n]'\n",
    "    filedata = readFile(filename)\n",
    "    allwords= re.split(pattern, filedata)\n",
    "    return allwords\n",
    "wordFromFile(filename)"
   ]
  },
  {
   "cell_type": "code",
   "execution_count": 11,
   "metadata": {},
   "outputs": [
    {
     "data": {
      "text/plain": [
       "{'new': 2, 'data': 1, 'line': 1, 'bfiuwfbiuwbf': 1}"
      ]
     },
     "execution_count": 11,
     "metadata": {},
     "output_type": "execute_result"
    }
   ],
   "source": [
    "# Function to print the frequency count of all words in a file\n",
    "# Frequency Distribution\n",
    "\n",
    "# Data in Line 1\n",
    "# Data in Line 2\n",
    "# Data in Line 3\n",
    "# O/P\n",
    "# Data : 3\n",
    "# in : 3\n",
    "# Line : 3\n",
    "# 1 : 1\n",
    "# 2 : 1\n",
    "# 3 : 1\n",
    "\n",
    "def FreqDistributionOfWords1(filename):\n",
    "    allwords=wordFromFile(filename)\n",
    "    uniquewords=uniqueData(filename)\n",
    "    \n",
    "    for word in uniquewords:\n",
    "        count=allwords.count(word)\n",
    "        print(word,':',count)\n",
    "    return\n",
    "#FreqDistributionOfWords1(\"DataFiles/data.txt\")\n",
    "\n",
    "def FreqDistributionOfWords2(filename):\n",
    "    allwords=wordFromFile(filename)\n",
    "    wordFrequency = {}\n",
    "    \n",
    "    for word in allwords:\n",
    "        if word not in wordFrequency.keys():\n",
    "            wordFrequency[word]=1\n",
    "        else:\n",
    "            wordFrequency[word]+=1\n",
    "    return wordFrequency\n",
    "    \n",
    "FreqDistributionOfWords2(\"DataFiles/data.txt\")"
   ]
  },
  {
   "cell_type": "code",
   "execution_count": null,
   "metadata": {},
   "outputs": [],
   "source": [
    "# Contacts Application\n",
    "    #add,search,list,modify,delete contacts\n",
    "#Find and replace Application\n",
    "    #Count the total number of occurances of word\n",
    "    #If word is existing\n",
    "    # Replace all occurances of a word with another word\n",
    "# Marks Analysis Application\n",
    "    #Generate marks file for n students\n",
    "    # Input: marks text file-each line contains marks of\n",
    "    # Generates a report with the following information\n",
    "        # Class Average\n",
    "        #percentage of students passed\n",
    "        #percentage of students failed\n",
    "        #percentage of students with distinction\n",
    "        #Heighest Mark Frequency\n",
    "        #Lowest Mark Frequency\n",
    "        "
   ]
  },
  {
   "cell_type": "code",
   "execution_count": 15,
   "metadata": {},
   "outputs": [],
   "source": [
    "# Function to generate marks data for n students\n",
    "from random import randint\n",
    "def generateMarks(n,lb,ub):\n",
    "    with open('DataFiles/marks.txt','w') as f:\n",
    "        for i in range(0,n):\n",
    "            r=randint(lb,ub)\n",
    "            f.write(str(r)+'\\n')\n",
    "    return\n",
    "generateMarks(100,0,100)\n",
    "    "
   ]
  },
  {
   "cell_type": "code",
   "execution_count": 8,
   "metadata": {},
   "outputs": [
    {
     "data": {
      "text/plain": [
       "['45',\n",
       " '46',\n",
       " '51',\n",
       " '47',\n",
       " '52',\n",
       " '100',\n",
       " '43',\n",
       " '0',\n",
       " '42',\n",
       " '71',\n",
       " '1',\n",
       " '63',\n",
       " '59',\n",
       " '0',\n",
       " '73',\n",
       " '86',\n",
       " '25',\n",
       " '19',\n",
       " '34',\n",
       " '99',\n",
       " '80',\n",
       " '77',\n",
       " '32',\n",
       " '61',\n",
       " '49',\n",
       " '88',\n",
       " '59',\n",
       " '16',\n",
       " '50',\n",
       " '89',\n",
       " '27',\n",
       " '89',\n",
       " '75',\n",
       " '74',\n",
       " '20',\n",
       " '28',\n",
       " '33',\n",
       " '44',\n",
       " '34',\n",
       " '8',\n",
       " '66',\n",
       " '20',\n",
       " '78',\n",
       " '91',\n",
       " '75',\n",
       " '51',\n",
       " '46',\n",
       " '30',\n",
       " '94',\n",
       " '82',\n",
       " '91',\n",
       " '25',\n",
       " '66',\n",
       " '1',\n",
       " '46',\n",
       " '87',\n",
       " '17',\n",
       " '36',\n",
       " '64',\n",
       " '20',\n",
       " '87',\n",
       " '26',\n",
       " '18',\n",
       " '8',\n",
       " '63',\n",
       " '56',\n",
       " '3',\n",
       " '40',\n",
       " '11',\n",
       " '60',\n",
       " '4',\n",
       " '75',\n",
       " '35',\n",
       " '13',\n",
       " '5',\n",
       " '27',\n",
       " '49',\n",
       " '90',\n",
       " '86',\n",
       " '67',\n",
       " '57',\n",
       " '23',\n",
       " '89',\n",
       " '69',\n",
       " '44',\n",
       " '18',\n",
       " '62',\n",
       " '21',\n",
       " '92',\n",
       " '98',\n",
       " '52',\n",
       " '0',\n",
       " '37',\n",
       " '26',\n",
       " '7',\n",
       " '51',\n",
       " '39',\n",
       " '83',\n",
       " '80',\n",
       " '40']"
      ]
     },
     "execution_count": 8,
     "metadata": {},
     "output_type": "execute_result"
    }
   ],
   "source": [
    "def readfile(filename):\n",
    "    with open(filename,'r') as f:\n",
    "        filedata=f.read().split()\n",
    "    return filedata\n",
    "readfile(\"DataFiles/marks.txt\")"
   ]
  },
  {
   "cell_type": "code",
   "execution_count": 9,
   "metadata": {},
   "outputs": [
    {
     "data": {
      "text/plain": [
       "65.0"
      ]
     },
     "execution_count": 9,
     "metadata": {},
     "output_type": "execute_result"
    }
   ],
   "source": [
    "def passPercent(filename):\n",
    "    l=list(map(int,readfile(filename)))\n",
    "    a=0\n",
    "    c=0\n",
    "    for i in l:\n",
    "        if i>=35:\n",
    "            c+=1\n",
    "            a+=i\n",
    "    return (c/len(l))*100\n",
    "filename=\"DataFiles/marks.txt\"\n",
    "passPercent(filename)"
   ]
  },
  {
   "cell_type": "code",
   "execution_count": 10,
   "metadata": {},
   "outputs": [
    {
     "data": {
      "text/plain": [
       "35.0"
      ]
     },
     "execution_count": 10,
     "metadata": {},
     "output_type": "execute_result"
    }
   ],
   "source": [
    "def passPercent(filename):\n",
    "    l=list(map(int,readfile(filename)))\n",
    "    a=0\n",
    "    c=0\n",
    "    for i in l:\n",
    "        if i<35:\n",
    "            c+=1\n",
    "            a+=i\n",
    "    return (c/len(l))*100\n",
    "filename=\"DataFiles/marks.txt\"\n",
    "passPercent(filename)"
   ]
  },
  {
   "cell_type": "code",
   "execution_count": 13,
   "metadata": {},
   "outputs": [
    {
     "name": "stdout",
     "output_type": "stream",
     "text": [
      "3\n"
     ]
    },
    {
     "data": {
      "text/plain": [
       "3.0"
      ]
     },
     "execution_count": 13,
     "metadata": {},
     "output_type": "execute_result"
    }
   ],
   "source": [
    "def distPercent(filename):\n",
    "    l=list(map(int,readfile(filename)))\n",
    "    a=0\n",
    "    c=0\n",
    "    for i in l:\n",
    "        if i>=95:\n",
    "            c+=1\n",
    "            a+=i\n",
    "    print(c)\n",
    "    return (c/len(l))*100\n",
    "filename=\"DataFiles/marks.txt\"\n",
    "distPercent(filename)"
   ]
  },
  {
   "cell_type": "code",
   "execution_count": 14,
   "metadata": {},
   "outputs": [
    {
     "name": "stdout",
     "output_type": "stream",
     "text": [
      "100\n"
     ]
    }
   ],
   "source": [
    "def heighestFrequency(filename):\n",
    "    with open(filename,'r') as f:\n",
    "        l=f.read().split()\n",
    "        l1=list(map(int,l))\n",
    "        t=max(l1)\n",
    "        print(t)\n",
    "filename=\"DataFiles/marks.txt\"\n",
    "heighestFrequency(filename)"
   ]
  },
  {
   "cell_type": "code",
   "execution_count": 15,
   "metadata": {},
   "outputs": [
    {
     "name": "stdout",
     "output_type": "stream",
     "text": [
      "0\n"
     ]
    }
   ],
   "source": [
    "def lowestFrequency(filename):\n",
    "    with open(filename,'r') as f:\n",
    "        l=f.read().split()\n",
    "        l1=list(map(int,l))\n",
    "        t=min(l1)\n",
    "        print(t)\n",
    "filename=\"DataFiles/marks.txt\"\n",
    "lowestFrequency(filename)"
   ]
  },
  {
   "cell_type": "code",
   "execution_count": 7,
   "metadata": {},
   "outputs": [
    {
     "data": {
      "text/plain": [
       "['Python',\n",
       " 'is',\n",
       " 'an',\n",
       " 'interpreted,',\n",
       " 'high-level,',\n",
       " 'general-purpose',\n",
       " 'programming',\n",
       " 'language.',\n",
       " 'Created',\n",
       " 'by',\n",
       " 'Guido',\n",
       " 'van',\n",
       " 'Rossum',\n",
       " 'and',\n",
       " 'first',\n",
       " 'released',\n",
       " 'in',\n",
       " '1991,',\n",
       " \"Python's\",\n",
       " 'design',\n",
       " 'philosophy',\n",
       " 'emphasizes',\n",
       " 'code',\n",
       " 'readability',\n",
       " 'with',\n",
       " 'its',\n",
       " 'notable',\n",
       " 'use',\n",
       " 'of',\n",
       " 'significant',\n",
       " 'whitespace.',\n",
       " 'Its',\n",
       " 'language',\n",
       " 'constructs',\n",
       " 'and',\n",
       " 'object-oriented',\n",
       " 'approach',\n",
       " 'aim',\n",
       " 'to',\n",
       " 'help',\n",
       " 'programmers',\n",
       " 'write',\n",
       " 'clear,',\n",
       " 'logical',\n",
       " 'code',\n",
       " 'for',\n",
       " 'small',\n",
       " 'and',\n",
       " 'large-scale',\n",
       " 'projects.[27]',\n",
       " 'Python',\n",
       " 'is',\n",
       " 'dynamically',\n",
       " 'typed',\n",
       " 'and',\n",
       " 'garbage-collected.',\n",
       " 'It',\n",
       " 'supports',\n",
       " 'multiple',\n",
       " 'programming',\n",
       " 'paradigms,',\n",
       " 'including',\n",
       " 'procedural,',\n",
       " 'object-oriented,',\n",
       " 'and',\n",
       " 'functional',\n",
       " 'programming.',\n",
       " 'Python',\n",
       " 'is',\n",
       " 'often',\n",
       " 'described',\n",
       " 'as',\n",
       " 'a',\n",
       " '\"batteries',\n",
       " 'included\"',\n",
       " 'language',\n",
       " 'due',\n",
       " 'to',\n",
       " 'its',\n",
       " 'comprehensive',\n",
       " 'standard',\n",
       " 'library.[28]',\n",
       " 'Python',\n",
       " 'was',\n",
       " 'conceived',\n",
       " 'in',\n",
       " 'the',\n",
       " 'late',\n",
       " '1980s',\n",
       " 'as',\n",
       " 'a',\n",
       " 'successor',\n",
       " 'to',\n",
       " 'the',\n",
       " 'ABC',\n",
       " 'language.',\n",
       " 'Python',\n",
       " '2.0,',\n",
       " 'released',\n",
       " '2000,',\n",
       " 'introduced',\n",
       " 'features',\n",
       " 'like',\n",
       " 'list',\n",
       " 'comprehensions',\n",
       " 'and',\n",
       " 'a',\n",
       " 'garbage',\n",
       " 'collection',\n",
       " 'system',\n",
       " 'capable',\n",
       " 'of',\n",
       " 'collecting',\n",
       " 'reference',\n",
       " 'cycles.',\n",
       " 'Python',\n",
       " '3.0,',\n",
       " 'released',\n",
       " '2008,',\n",
       " 'was',\n",
       " 'a',\n",
       " 'major',\n",
       " 'revision',\n",
       " 'of',\n",
       " 'the',\n",
       " 'language',\n",
       " 'that',\n",
       " 'is',\n",
       " 'not',\n",
       " 'completely',\n",
       " 'backward-compatible,',\n",
       " 'and',\n",
       " 'much',\n",
       " 'Python',\n",
       " '2',\n",
       " 'code',\n",
       " 'does',\n",
       " 'not',\n",
       " 'run',\n",
       " 'unmodified',\n",
       " 'on',\n",
       " 'Python',\n",
       " '3.',\n",
       " 'Due',\n",
       " 'to',\n",
       " 'concern',\n",
       " 'about',\n",
       " 'the',\n",
       " 'amount',\n",
       " 'of',\n",
       " 'code',\n",
       " 'written',\n",
       " 'for',\n",
       " 'Python',\n",
       " '2,',\n",
       " 'support',\n",
       " 'for',\n",
       " 'Python',\n",
       " '2.7',\n",
       " '(the',\n",
       " 'last',\n",
       " 'release',\n",
       " 'in',\n",
       " 'the',\n",
       " '2.x',\n",
       " 'series)',\n",
       " 'was',\n",
       " 'extended',\n",
       " 'to',\n",
       " '2020.',\n",
       " 'Language',\n",
       " 'developer',\n",
       " 'Guido',\n",
       " 'van',\n",
       " 'Rossum',\n",
       " 'shouldered',\n",
       " 'sole',\n",
       " 'responsibility',\n",
       " 'for',\n",
       " 'the',\n",
       " 'project',\n",
       " 'until',\n",
       " 'July',\n",
       " '2018',\n",
       " 'but',\n",
       " 'now',\n",
       " 'shares',\n",
       " 'his',\n",
       " 'leadership',\n",
       " 'as',\n",
       " 'a',\n",
       " 'member',\n",
       " 'of',\n",
       " 'a',\n",
       " 'five-person',\n",
       " 'steering',\n",
       " 'council.[29][30][31]']"
      ]
     },
     "execution_count": 7,
     "metadata": {},
     "output_type": "execute_result"
    }
   ],
   "source": [
    "# Find and Replace\n",
    "filename=\"DataFiles/find1.txt\"\n",
    "def find1(filename):\n",
    "    with open(filename,'r') as f:\n",
    "        l=f.read().split()\n",
    "    return l\n",
    "\n",
    "find1(filename)"
   ]
  },
  {
   "cell_type": "code",
   "execution_count": 8,
   "metadata": {},
   "outputs": [
    {
     "name": "stdout",
     "output_type": "stream",
     "text": [
      "Python\n",
      "language\n"
     ]
    },
    {
     "data": {
      "text/plain": [
       "'language is an interpreted, high-level, general-purpose programming language. Created by Guido van Rossum and first released in 1991, Python\\'s design philosophy emphasizes code readability with its notable use of significant whitespace. Its language constructs and object-oriented approach aim to help programmers write clear, logical code for small and large-scale projects.[27] language is dynamically typed and garbage-collected. It supports multiple programming paradigms, including procedural, object-oriented, and functional programming. language is often described as a \"batteries included\" language due to its comprehensive standard library.[28] language was conceived in the late 1980s as a successor to the ABC language. language 2.0, released 2000, introduced features like list comprehensions and a garbage collection system capable of collecting reference cycles. language 3.0, released 2008, was a major revision of the language that is not completely backward-compatible, and much language 2 code does not run unmodified on language 3. Due to concern about the amount of code written for language 2, support for language 2.7 (the last release in the 2.x series) was extended to 2020. Language developer Guido van Rossum shouldered sole responsibility for the project until July 2018 but now shares his leadership as a member of a five-person steering council.[29][30][31]'"
      ]
     },
     "execution_count": 8,
     "metadata": {},
     "output_type": "execute_result"
    }
   ],
   "source": [
    "str1=\" \"\n",
    "str2=\" \"\n",
    "def findReplace(filename,s,r):\n",
    "    filelist=find1(filename)\n",
    "    for i in range(0,len(filelist)):\n",
    "        if filelist[i]==s:\n",
    "            filelist[i]=r\n",
    "    str2=str1.join(filelist)\n",
    "    return str2\n",
    "s=input()\n",
    "r=input()\n",
    "findReplace(filename,s,r)"
   ]
  },
  {
   "cell_type": "code",
   "execution_count": null,
   "metadata": {},
   "outputs": [],
   "source": []
  }
 ],
 "metadata": {
  "kernelspec": {
   "display_name": "Python 3",
   "language": "python",
   "name": "python3"
  },
  "language_info": {
   "codemirror_mode": {
    "name": "ipython",
    "version": 3
   },
   "file_extension": ".py",
   "mimetype": "text/x-python",
   "name": "python",
   "nbconvert_exporter": "python",
   "pygments_lexer": "ipython3",
   "version": "3.7.3"
  }
 },
 "nbformat": 4,
 "nbformat_minor": 2
}
