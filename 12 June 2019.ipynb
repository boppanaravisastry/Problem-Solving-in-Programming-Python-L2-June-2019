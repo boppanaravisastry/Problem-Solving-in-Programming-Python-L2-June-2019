{
 "cells": [
  {
   "cell_type": "markdown",
   "metadata": {},
   "source": [
    "# Problem Solving and Programming\n",
    "\n",
    "\n"
   ]
  },
  {
   "cell_type": "markdown",
   "metadata": {},
   "source": [
    "### Date 12 June 2019\n",
    "\n",
    "### Day Objective\n",
    "\n",
    "- String Slicing\n",
    "- Functions in Python\n",
    "- Basic Problems related to Conditional statements using functions\n",
    "- Iteration in Python\n",
    "- Python Data Structures-Lists,Tuples and Dictionaries\n",
    " - Basic Operations and data Structures\n",
    " - Applying Data Structures  to solve problems."
   ]
  },
  {
   "cell_type": "code",
   "execution_count": null,
   "metadata": {},
   "outputs": [],
   "source": []
  },
  {
   "cell_type": "markdown",
   "metadata": {},
   "source": [
    "### String Slicing"
   ]
  },
  {
   "cell_type": "code",
   "execution_count": 14,
   "metadata": {},
   "outputs": [
    {
     "data": {
      "text/plain": [
       "'e'"
      ]
     },
     "execution_count": 14,
     "metadata": {},
     "output_type": "execute_result"
    }
   ],
   "source": [
    "s1 = \"Pythondsfbubwobebfjqebfkjewbfj\"\n",
    "s1[0] # Accessing the first character in a string\n",
    "s1[1] #Accessing the second character in a string\n",
    "s1[len(s1)-1]  #Accessing the last character in a string\n",
    "s1[-1] #Another way of accessing the last chareacter\n",
    "s1[-2] #Accessing the penultimate character of a string\n",
    "\n",
    "s1[0:2] # Accessing the first two characters\n",
    "\n",
    "s1[-2:] # Accessing the last two characters in a string\n",
    "\n",
    "s1[4:] # Accessing the all characters 5 th to end of string\n",
    "\n",
    "s1[1:-1]#Accessing all characters except first and last character\n",
    "\n",
    "s1[len(s1)//2]#Accessing a middle character"
   ]
  },
  {
   "cell_type": "code",
   "execution_count": null,
   "metadata": {},
   "outputs": [],
   "source": []
  }
 ],
 "metadata": {
  "kernelspec": {
   "display_name": "Python 3",
   "language": "python",
   "name": "python3"
  },
  "language_info": {
   "codemirror_mode": {
    "name": "ipython",
    "version": 3
   },
   "file_extension": ".py",
   "mimetype": "text/x-python",
   "name": "python",
   "nbconvert_exporter": "python",
   "pygments_lexer": "ipython3",
   "version": "3.7.3"
  }
 },
 "nbformat": 4,
 "nbformat_minor": 2
}
