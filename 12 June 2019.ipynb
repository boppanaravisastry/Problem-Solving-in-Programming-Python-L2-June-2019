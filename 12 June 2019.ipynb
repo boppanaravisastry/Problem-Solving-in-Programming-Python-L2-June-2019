{
 "cells": [
  {
   "cell_type": "markdown",
   "metadata": {},
   "source": [
    "# Problem Solving and Programming\n",
    "\n",
    "\n"
   ]
  },
  {
   "cell_type": "markdown",
   "metadata": {},
   "source": [
    "### Date 12 June 2019\n",
    "\n",
    "### Day Objective\n",
    "\n",
    "- String Slicing\n",
    "- Functions in Python\n",
    "- Basic Problems related to Conditional statements using functions\n",
    "- Iteration in Python\n",
    "- Python Data Structures-Lists,Tuples and Dictionaries\n",
    " - Basic Operations and data Structures\n",
    " - Applying Data Structures  to solve problems."
   ]
  },
  {
   "cell_type": "code",
   "execution_count": null,
   "metadata": {},
   "outputs": [],
   "source": []
  },
  {
   "cell_type": "markdown",
   "metadata": {},
   "source": [
    "### String Slicing"
   ]
  },
  {
   "cell_type": "code",
   "execution_count": 128,
   "metadata": {},
   "outputs": [
    {
     "data": {
      "text/plain": [
       "'jbekbqfeobbsnhy'"
      ]
     },
     "execution_count": 128,
     "metadata": {},
     "output_type": "execute_result"
    }
   ],
   "source": [
    "s1 = \"Pythondsfbubwobebfjqebfkjewbfj\"\n",
    "s1[0] # Accessing the first character in a string\n",
    "s1[1] #Accessing the second character in a string\n",
    "s1[len(s1)-1]  #Accessing the last character in a string\n",
    "s1[-1] #Another way of accessing the last chareacter\n",
    "s1[-2] #Accessing the penultimate character of a string\n",
    "\n",
    "s1[0:2] # Accessing the first two characters\n",
    "\n",
    "s1[-2:] # Accessing the last two characters in a string\n",
    "\n",
    "s1[4:] # Accessing the all characters 5 th to end of string\n",
    "\n",
    "s1[1:-1]#Accessing all characters except first and last character\n",
    "\n",
    "s1[len(s1)//2]#Accessing a middle character\n",
    "\n",
    "s1[-1::-1]# Reverse of a string\n",
    "\n",
    "s1[-1:-3:-1]#Accessing last two characters in reverse of a string\n",
    "\n",
    "s1[len(s1)//2:len(s1)//2-2:-1]# Reverse the middle two characters in an even length string\n",
    "\n",
    "# Accessing alternate characters in a string\n",
    "# \"Python\"\n",
    "s1[::2]\n",
    "#Accessing alternate characters of a string in reverse of string\n",
    "#\"Python\" ->\"nhy\"\n",
    "s1[::-2]"
   ]
  },
  {
   "cell_type": "code",
   "execution_count": null,
   "metadata": {},
   "outputs": [],
   "source": []
  },
  {
   "cell_type": "markdown",
   "metadata": {},
   "source": [
    "### Functions"
   ]
  },
  {
   "cell_type": "code",
   "execution_count": 129,
   "metadata": {},
   "outputs": [
    {
     "data": {
      "text/plain": [
       "'nohtyP'"
      ]
     },
     "execution_count": 129,
     "metadata": {},
     "output_type": "execute_result"
    }
   ],
   "source": [
    "#function to reverse a string\n",
    "def reverseString(s):\n",
    "    return s[::-1]\n",
    "reverseString(\"Python\")"
   ]
  },
  {
   "cell_type": "code",
   "execution_count": 130,
   "metadata": {},
   "outputs": [
    {
     "data": {
      "text/plain": [
       "True"
      ]
     },
     "execution_count": 130,
     "metadata": {},
     "output_type": "execute_result"
    }
   ],
   "source": [
    "#Function to check if a string is a palindrome\n",
    "def palindrome(s):\n",
    "    if s==s[::-1]:\n",
    "        return True\n",
    "    else:\n",
    "        return False\n",
    "palindrome(\"madam\")"
   ]
  },
  {
   "cell_type": "code",
   "execution_count": 131,
   "metadata": {},
   "outputs": [
    {
     "data": {
      "text/plain": [
       "True"
      ]
     },
     "execution_count": 131,
     "metadata": {},
     "output_type": "execute_result"
    }
   ],
   "source": [
    "# Function to check if a given year is a leap year\n",
    "def leapYear(year):\n",
    "    if year%400 == 0 or (year%100!=0 and year%4==0):\n",
    "        return True\n",
    "    return False\n",
    "leapYear(2020)"
   ]
  },
  {
   "cell_type": "code",
   "execution_count": 132,
   "metadata": {},
   "outputs": [
    {
     "data": {
      "text/plain": [
       "4"
      ]
     },
     "execution_count": 132,
     "metadata": {},
     "output_type": "execute_result"
    }
   ],
   "source": [
    "# Function to count the number of digits in a given number\n",
    "def countTheNumber(n):\n",
    "    s=len(str(n))\n",
    "    return s\n",
    "countTheNumber(1234)"
   ]
  },
  {
   "cell_type": "code",
   "execution_count": 133,
   "metadata": {},
   "outputs": [
    {
     "data": {
      "text/plain": [
       "234"
      ]
     },
     "execution_count": 133,
     "metadata": {},
     "output_type": "execute_result"
    }
   ],
   "source": [
    "# Function to identify the greatest of 4 numbers\n",
    "def greatestFourNumber(n1,n2,n3,n4):\n",
    "    if n1>n2 and n1>n3 and n1>n4:\n",
    "        return n1\n",
    "    elif n2>n3 and n2>n4:\n",
    "        return n2\n",
    "    elif n3>n4:\n",
    "        return n3\n",
    "    else:\n",
    "        return n4\n",
    "greatestFourNumber(123,234,11,34)"
   ]
  },
  {
   "cell_type": "code",
   "execution_count": null,
   "metadata": {},
   "outputs": [],
   "source": []
  },
  {
   "cell_type": "markdown",
   "metadata": {},
   "source": [
    "### Iteration\n",
    "- for\n",
    "- while"
   ]
  },
  {
   "cell_type": "code",
   "execution_count": 134,
   "metadata": {},
   "outputs": [
    {
     "name": "stdout",
     "output_type": "stream",
     "text": [
      "1 2 3 4 5 6 7 8 9 10 11 12 13 14 15 16 17 18 19 20 "
     ]
    }
   ],
   "source": [
    "# Function to print n natural numbers\n",
    "\n",
    "def printNNaturalNumbers(n):\n",
    "    for i in range(1,n+1):\n",
    "        print(i,end=\" \")\n",
    "    return\n",
    "printNNaturalNumbers(20)"
   ]
  },
  {
   "cell_type": "code",
   "execution_count": 135,
   "metadata": {},
   "outputs": [
    {
     "name": "stdout",
     "output_type": "stream",
     "text": [
      "2 4 6 8 10 12 14 16 18 20 "
     ]
    }
   ],
   "source": [
    "# Function to print n natural number only even numbers\n",
    "\n",
    "def printNNaturalNumbers(n):\n",
    "    for i in range(1,n+1):\n",
    "        if i%2==0:\n",
    "            print(i,end=\" \")\n",
    "    return\n",
    "printNNaturalNumbers(20)"
   ]
  },
  {
   "cell_type": "code",
   "execution_count": 136,
   "metadata": {},
   "outputs": [
    {
     "name": "stdout",
     "output_type": "stream",
     "text": [
      "1 2 3 4 5 6 7 8 9 "
     ]
    }
   ],
   "source": [
    "# Function to print N Natural numbers using a while loop\n",
    "def nNaturalNumbers(n):\n",
    "    i=1\n",
    "    while i<=n: \n",
    "        print(i,end=\" \")\n",
    "        i+=1\n",
    "    return\n",
    "nNaturalNumbers(9)"
   ]
  },
  {
   "cell_type": "code",
   "execution_count": 137,
   "metadata": {},
   "outputs": [
    {
     "name": "stdout",
     "output_type": "stream",
     "text": [
      "12 18 24 30 36 42 48 54 60 66 72 78 84 90 96 102 108 114 120 126 132 138 144 150 156 162 168 174 180 186 192 198 204 210 216 222 228 234 240 246 252 258 264 270 276 282 288 294 306 312 318 324 330 336 342 348 354 360 366 372 378 384 390 396 402 408 414 420 426 432 438 444 450 456 462 468 474 480 486 492 498 504 510 516 522 528 534 540 546 552 558 564 570 576 582 588 594 606 612 618 624 630 636 642 648 654 660 666 672 678 684 690 696 702 708 714 720 726 732 738 744 750 756 762 768 774 780 786 792 798 804 810 816 822 828 834 840 846 852 858 864 870 876 882 888 894 906 912 918 924 930 936 942 948 954 960 966 972 978 984 990 996 "
     ]
    }
   ],
   "source": [
    " # Function to print all numbers divisiable by 6 and \n",
    "# not a factor of 100 in a given range(lb,ub) inclusive\n",
    "\n",
    "def divisiableFactors(lb,ub):\n",
    "    for i in range(lb,ub):\n",
    "        if i%6==0 and i%100!=0:\n",
    "            print(i,end=\" \")\n",
    "    return\n",
    "divisiableFactors(10,1000)"
   ]
  },
  {
   "cell_type": "code",
   "execution_count": 138,
   "metadata": {},
   "outputs": [
    {
     "data": {
      "text/plain": [
       "8.0"
      ]
     },
     "execution_count": 138,
     "metadata": {},
     "output_type": "execute_result"
    }
   ],
   "source": [
    "# Function to find the average of cubes of all even numbers\n",
    "# in a given range(lb,ub) inclusive\n",
    "\n",
    "def averageOfCubes(lb,ub):\n",
    "    sum=0\n",
    "    count=0\n",
    "    for i in range(lb,ub+1):\n",
    "        if i%2==0:\n",
    "            sum+=i**3\n",
    "            count+=1\n",
    "    return sum/count\n",
    "    \n",
    "averageOfCubes(1,3)\n",
    "            \n",
    "            "
   ]
  },
  {
   "cell_type": "code",
   "execution_count": 139,
   "metadata": {},
   "outputs": [
    {
     "data": {
      "text/plain": [
       "16"
      ]
     },
     "execution_count": 139,
     "metadata": {},
     "output_type": "execute_result"
    }
   ],
   "source": [
    "# Function to Generate the list of factors for a given number\n",
    "# 12->1 2 3 4 6 12\n",
    "def listOfFactors(n):\n",
    "    sum=0\n",
    "    for i in range(1,n//2+1):\n",
    "        if n%i==0:\n",
    "            sum+=i\n",
    "            #print(i,end=\" \")\n",
    "    return sum\n",
    "listOfFactors(12)"
   ]
  },
  {
   "cell_type": "code",
   "execution_count": 140,
   "metadata": {},
   "outputs": [
    {
     "data": {
      "text/plain": [
       "120"
      ]
     },
     "execution_count": 140,
     "metadata": {},
     "output_type": "execute_result"
    }
   ],
   "source": [
    "# Function to calculate the factorial of a given number\n",
    "\n",
    "def factorial(n):\n",
    "    if n==1:\n",
    "        return n\n",
    "    else:\n",
    "        return n*factorial(n-1)\n",
    "factorial(5)\n",
    "        "
   ]
  },
  {
   "cell_type": "code",
   "execution_count": 141,
   "metadata": {},
   "outputs": [
    {
     "data": {
      "text/plain": [
       "5"
      ]
     },
     "execution_count": 141,
     "metadata": {},
     "output_type": "execute_result"
    }
   ],
   "source": [
    "# Function to check if a given number is prime\n",
    "\n",
    "def numberIsPrime(n):\n",
    "    flag=True\n",
    "    for i in range(2,n//2+1):\n",
    "        if n%i==0:\n",
    "            flag=False\n",
    "            return 0\n",
    "        return n\n",
    "numberIsPrime(5)"
   ]
  },
  {
   "cell_type": "code",
   "execution_count": 142,
   "metadata": {},
   "outputs": [
    {
     "data": {
      "text/plain": [
       "True"
      ]
     },
     "execution_count": 142,
     "metadata": {},
     "output_type": "execute_result"
    }
   ],
   "source": [
    "# Function to check if a given number is prime\n",
    "\n",
    "def numberIsPrime(m):\n",
    "    flag=True\n",
    "    for i in range(2,(m//2)+1):\n",
    "        if m%i==0:\n",
    "            flag=False\n",
    "            return flag\n",
    "    return flag\n",
    "numberIsPrime(5)"
   ]
  },
  {
   "cell_type": "code",
   "execution_count": 143,
   "metadata": {
    "scrolled": true
   },
   "outputs": [
    {
     "data": {
      "text/plain": [
       "12.9"
      ]
     },
     "execution_count": 143,
     "metadata": {},
     "output_type": "execute_result"
    }
   ],
   "source": [
    "# Function to calculate the average first  N prime Numbers \n",
    "def avgNPrime(n):\n",
    "    count=0\n",
    "    sum=0\n",
    "    primeCount=0\n",
    "    seqCount=2\n",
    "    while(primeCount<n):\n",
    "        if numberIsPrime(seqCount):\n",
    "            primeCount+=1\n",
    "            sum+=seqCount\n",
    "        seqCount+=1\n",
    "    return sum/n\n",
    "avgNPrime(10)"
   ]
  },
  {
   "cell_type": "code",
   "execution_count": 144,
   "metadata": {},
   "outputs": [
    {
     "name": "stdout",
     "output_type": "stream",
     "text": [
      "6 28 496 "
     ]
    }
   ],
   "source": [
    "# Function to generate all Perfect numbers in a given range\n",
    "def isPerfect(n):\n",
    "    if listOfFactors(n)==n:\n",
    "        return True\n",
    "    return False\n",
    "def generatePerfect(lb,ub):\n",
    "    for i in range(lb,ub+1):\n",
    "        if isPerfect(i):\n",
    "            print(i,end=\" \")\n",
    "    return\n",
    "generatePerfect(1,1000)"
   ]
  },
  {
   "cell_type": "code",
   "execution_count": 145,
   "metadata": {},
   "outputs": [
    {
     "name": "stdout",
     "output_type": "stream",
     "text": [
      "500 504 508 512 516 520 524 "
     ]
    }
   ],
   "source": [
    "#Function to print the alternate values in a range in the same line\n",
    "#[500,550] ->500 502 504 ..550\n",
    "#(500.550) ->501 503 505 .. 549\n",
    "#range(500,550)->\n",
    "# all based functions python in have start value inclusive end value Exclusive\n",
    "\n",
    "def alternateValues(start,end):\n",
    "    for i in range(start,end+1,4):\n",
    "        print(i,end=\" \")\n",
    "    return\n",
    "alternateValues(500,525)\n",
    "    "
   ]
  },
  {
   "cell_type": "code",
   "execution_count": 146,
   "metadata": {},
   "outputs": [
    {
     "name": "stdout",
     "output_type": "stream",
     "text": [
      "525 524 523 522 521 520 519 518 517 516 515 514 513 512 511 510 509 508 507 506 505 504 503 502 501 500 "
     ]
    }
   ],
   "source": [
    "#Function to print reverse of a given range in the same line\n",
    "def reverseNumber(start,end):\n",
    "    for i in range(end,start-1,-1):\n",
    "        print(i,end=\" \")\n",
    "    return\n",
    "reverseNumber(500,525)"
   ]
  },
  {
   "cell_type": "code",
   "execution_count": 147,
   "metadata": {},
   "outputs": [
    {
     "name": "stdout",
     "output_type": "stream",
     "text": [
      "525 523 521 519 517 515 513 511 509 507 505 503 501 "
     ]
    }
   ],
   "source": [
    "#Funtion to print the odd numbers in reverse order in a range\n",
    "def oddNumberReverse(start,end):\n",
    "    for i in range(end,start-1,-1):\n",
    "        if i%2!=0:\n",
    "            print(i,end=\" \")\n",
    "    return\n",
    "oddNumberReverse(500,525)"
   ]
  },
  {
   "cell_type": "code",
   "execution_count": 148,
   "metadata": {},
   "outputs": [
    {
     "data": {
      "text/plain": [
       "55"
      ]
     },
     "execution_count": 148,
     "metadata": {},
     "output_type": "execute_result"
    }
   ],
   "source": [
    "# Function to Calculate the sum of numbers in a range\n",
    "def sumOfNumbers(start,end):\n",
    "    sum=0\n",
    "    for i in range(start,end+1):\n",
    "        sum+=i\n",
    "    return sum\n",
    "sumOfNumbers(1,10)"
   ]
  },
  {
   "cell_type": "code",
   "execution_count": 149,
   "metadata": {},
   "outputs": [
    {
     "data": {
      "text/plain": [
       "3.0"
      ]
     },
     "execution_count": 149,
     "metadata": {},
     "output_type": "execute_result"
    }
   ],
   "source": [
    "# Function to calculate the average of all numbers  in a given range\n",
    "#(1,5)->3\n",
    "def avgAllNumbers(start,end):\n",
    "    sum=0\n",
    "    #count=0\n",
    "    for i in range(start,end+1):\n",
    "        sum+=i # Sum Calculation\n",
    "        #count+=1 # Counting number of values\n",
    "    return sum/(end-start+1)\n",
    "avgAllNumbers(1,5)"
   ]
  },
  {
   "cell_type": "code",
   "execution_count": 150,
   "metadata": {},
   "outputs": [
    {
     "name": "stdout",
     "output_type": "stream",
     "text": [
      "2000 2004 2008 2012 2016 2020 "
     ]
    }
   ],
   "source": [
    "# Function to generate all leap years in a given time period\n",
    "# 2000 2020 -> 2000 2004 2008 2012 2016 2020\n",
    "def isleapYear(year):\n",
    "    if year%400==0 or (year%100!=0 and year%4==0):\n",
    "        return True\n",
    "    else:\n",
    "        return False\n",
    "def generateLeapYears(startyear,endyear):\n",
    "    for year in range(startyear,endyear+1):\n",
    "        if isleapYear(year):\n",
    "            print(year,end=\" \")\n",
    "    return\n",
    "generateLeapYears(2000,2020)"
   ]
  },
  {
   "cell_type": "code",
   "execution_count": 151,
   "metadata": {},
   "outputs": [
    {
     "data": {
      "text/plain": [
       "731"
      ]
     },
     "execution_count": 151,
     "metadata": {},
     "output_type": "execute_result"
    }
   ],
   "source": [
    "# Calculate number of days in a given time period using leapYear logic\n",
    "# For Every year in the given time period, if the leapyear \n",
    "def numberOfDays(startyear,endyear):\n",
    "    sum=0\n",
    "    notl=0\n",
    "    for year in range(startyear,endyear+1):\n",
    "        if isleapYear(year):\n",
    "            sum+=1\n",
    "        else:\n",
    "            notl+=1\n",
    "    return (sum*365)+(notl*366)\n",
    "numberOfDays(2000,2001) \n"
   ]
  },
  {
   "cell_type": "code",
   "execution_count": 163,
   "metadata": {},
   "outputs": [
    {
     "data": {
      "text/plain": [
       "61"
      ]
     },
     "execution_count": 163,
     "metadata": {},
     "output_type": "execute_result"
    }
   ],
   "source": [
    "# Function to calculate number of hours for a given period\n",
    "# (11,1975,3,1999)\n",
    "# numberOfHours(5,2019,6,2019)\n",
    "#2,2016,6,2019\n",
    "#[all dats from feb 2016 to dec 2016,\n",
    "#. all days for years between start and end,\n",
    "    # all days from jan to june 2019]\n",
    "# Np Of Hours = 24 * No Of Days\n",
    "# 3 steps\n",
    "    #1.start month year to end of year- calculate no of \n",
    "    #2.calculate days for all years between start year\n",
    "        #2017,2018 - 365* no of years\n",
    "    #3.calculate days from jan to end month year\n",
    "#Excluding Feb\n",
    "# First SIx Months - 1,3,4,5,6,7\n",
    "                    #All odd months hava 31 days\n",
    "                    #All even months hava 30 days\n",
    "# Last Six Months - 8,9,10,11,12\n",
    "                    #All even months hava 31 days\n",
    "                    #All odd months hava 30 days\n",
    "# 31 days - (month <=7 and month%2!=0 and month!=2)||(month>=8)\n",
    "        \n",
    "def numberOfDaysMonth(month,year):\n",
    "    if month==2:\n",
    "        if isleapYear(year):\n",
    "            return 29\n",
    "        return 28\n",
    "    elif (month <=7 and month %2!=0)or (month >= 8 and month % 2 ==0):\n",
    "        return 31\n",
    "    else:\n",
    "        return 30\n",
    "        \n",
    "def daysInStartYear(startmonth,startyear):\n",
    "    days=0\n",
    "    for month in  range(startmonth,13):\n",
    "        days+=numberOfDaysMonth(month,startyear)\n",
    "    return days\n",
    "daysInStartYear(11,2019)\n"
   ]
  },
  {
   "cell_type": "code",
   "execution_count": 164,
   "metadata": {},
   "outputs": [
    {
     "data": {
      "text/plain": [
       "205512"
      ]
     },
     "execution_count": 164,
     "metadata": {},
     "output_type": "execute_result"
    }
   ],
   "source": [
    "def daysInEndYear(endmonth,endyear):\n",
    "    days=0\n",
    "    for month in  range(1,endmonth+1):\n",
    "        days+=numberOfDaysMonth(month,endyear)\n",
    "    return days\n",
    "def numberOfHours(startmonth,startyear,endmonth,endyear):\n",
    "    days=0\n",
    "    days+= daysInStartYear(startmonth,startyear)\n",
    "    days+= daysInEndYear(endmonth,endyear)\n",
    "    if endyear-startyear==0:\n",
    "        days+=numberOfDays(startyear+1,startyear+1)\n",
    "    elif endyear - startyear>2:\n",
    "        days+=numberOfDays(startyear+1,endyear-1)\n",
    "    return 24*days\n",
    "numberOfHours(11,1975,3,1999)"
   ]
  },
  {
   "cell_type": "code",
   "execution_count": 153,
   "metadata": {},
   "outputs": [
    {
     "name": "stdout",
     "output_type": "stream",
     "text": [
      "1 1 2 1 2 6 1 2 6 24 1 2 6 24 120 "
     ]
    },
    {
     "data": {
      "text/plain": [
       "30.6"
      ]
     },
     "execution_count": 153,
     "metadata": {},
     "output_type": "execute_result"
    }
   ],
   "source": [
    "# Function to average of factorial in given range\n",
    "def avgOfAllFactorial(start,end):\n",
    "    sum=0\n",
    "    for i in range(start,end+1):\n",
    "        fact=1\n",
    "        for j in range(1,i+1):\n",
    "            fact*=j\n",
    "            print(fact,end=\" \")\n",
    "        sum+=fact\n",
    "    return sum/i\n",
    "avgOfAllFactorial(1,5)"
   ]
  },
  {
   "cell_type": "code",
   "execution_count": 1,
   "metadata": {},
   "outputs": [
    {
     "data": {
      "text/plain": [
       "True"
      ]
     },
     "execution_count": 1,
     "metadata": {},
     "output_type": "execute_result"
    }
   ],
   "source": [
    "# Function to check amstrong numbers\n",
    "def armstrong(num):\n",
    "    order=len(str(num))\n",
    "    sum=0\n",
    "    temp=num\n",
    "    while temp>0:\n",
    "        digit=temp%10\n",
    "        sum+=digit**order\n",
    "        temp//=10\n",
    "    if num==sum:\n",
    "        return True\n",
    "    else:\n",
    "        return False\n",
    "armstrong(40028394225)\n"
   ]
  },
  {
   "cell_type": "code",
   "execution_count": 2,
   "metadata": {},
   "outputs": [
    {
     "name": "stdout",
     "output_type": "stream",
     "text": [
      "1 3 5 7 9 153 371 407 92727 1741725 "
     ]
    }
   ],
   "source": [
    "#Function to generate N odd Amstrong numbers\n",
    "def armstrongOdd(n):\n",
    "    i=1\n",
    "    c=0\n",
    "    while c!=n:\n",
    "        if armstrong(i) and i%2!=0:\n",
    "            c+=1\n",
    "            print(i,end=\" \")\n",
    "        i+=1\n",
    "armstrongOdd(10)"
   ]
  },
  {
   "cell_type": "code",
   "execution_count": null,
   "metadata": {},
   "outputs": [],
   "source": []
  }
 ],
 "metadata": {
  "kernelspec": {
   "display_name": "Python 3",
   "language": "python",
   "name": "python3"
  },
  "language_info": {
   "codemirror_mode": {
    "name": "ipython",
    "version": 3
   },
   "file_extension": ".py",
   "mimetype": "text/x-python",
   "name": "python",
   "nbconvert_exporter": "python",
   "pygments_lexer": "ipython3",
   "version": "3.7.3"
  }
 },
 "nbformat": 4,
 "nbformat_minor": 2
}
