{
 "cells": [
  {
   "cell_type": "markdown",
   "metadata": {},
   "source": [
    "### 15 June 2019"
   ]
  },
  {
   "cell_type": "code",
   "execution_count": 1,
   "metadata": {},
   "outputs": [
    {
     "name": "stdout",
     "output_type": "stream",
     "text": [
      "1\n"
     ]
    }
   ],
   "source": [
    "#Problem 2\n",
    "\n",
    "#closest value in zero\n",
    "li=[-1,-2,2,3,1]\n",
    "li.sort()\n",
    "pl=[]\n",
    "for i in li:\n",
    "    pl.append(abs(i))\n",
    "pl.sort()\n",
    "if pl[0] in li:\n",
    "    print(pl[0])\n",
    "else:\n",
    "    print(-pl[0])"
   ]
  },
  {
   "cell_type": "code",
   "execution_count": 3,
   "metadata": {},
   "outputs": [
    {
     "name": "stdout",
     "output_type": "stream",
     "text": [
      "3\n"
     ]
    }
   ],
   "source": [
    "#longest value in zero\n",
    "li=[-1,-2,2,3,1]\n",
    "li.sort()\n",
    "pl=[]\n",
    "for i in li:\n",
    "    pl.append(abs(i))\n",
    "pl.sort()\n",
    "if pl[-1] in li:\n",
    "    print(pl[-1])\n",
    "else:\n",
    "    print(-pl[-1])"
   ]
  },
  {
   "cell_type": "code",
   "execution_count": 5,
   "metadata": {},
   "outputs": [
    {
     "data": {
      "text/plain": [
       "-1"
      ]
     },
     "execution_count": 5,
     "metadata": {},
     "output_type": "execute_result"
    }
   ],
   "source": [
    "#Problem 3\n",
    "\n",
    "#You are given three numbers, a,b,c\n",
    "#write a program to find the largest number\n",
    "# which is less than or equal to c and leaves\n",
    "#remainder b when divided by a.\n",
    "\n",
    "def cal(a,b,c):\n",
    "    for i in range(c,a-1,-1):\n",
    "        if i%a==b:\n",
    "            return i\n",
    "    return -1\n",
    "cal(1,2,4)\n",
    "\n",
    "\n",
    "\n",
    "\n",
    "\n",
    "\n",
    " "
   ]
  },
  {
   "cell_type": "markdown",
   "metadata": {},
   "source": [
    "### Practice Problems"
   ]
  },
  {
   "cell_type": "code",
   "execution_count": null,
   "metadata": {},
   "outputs": [],
   "source": [
    "#1.Count Divisors\n",
    "def countDivisors(l,r,k):\n",
    "    count=0\n",
    "    for n in range(l,r+1):\n",
    "        if n%k==0:\n",
    "            count+=1\n",
    "    print(count)\n",
    "    return\n",
    "s=input()\n",
    "s=s.split()\n",
    "l=int(s[0])\n",
    "r=int(s[1])\n",
    "k=int(s[2])\n",
    "    \n",
    "countDivisors(l,r,k)"
   ]
  },
  {
   "cell_type": "code",
   "execution_count": null,
   "metadata": {},
   "outputs": [],
   "source": [
    "#2.Factorial numbers\n",
    "def factorial(n):\n",
    "    if n==1:\n",
    "        return n\n",
    "    else:\n",
    "        return n*factorial(n-1)\n",
    "n=int(input())\n",
    "print(factorial(n))"
   ]
  },
  {
   "cell_type": "code",
   "execution_count": null,
   "metadata": {},
   "outputs": [],
   "source": [
    "#3.Toggle String\n",
    "def swapCase(s):\n",
    "    print(s.swapcase())\n",
    "s=input()\n",
    "swapCase(s)"
   ]
  },
  {
   "cell_type": "code",
   "execution_count": null,
   "metadata": {},
   "outputs": [],
   "source": [
    "#4.Palindrome given String\n",
    "def palindrome(s):\n",
    "    if s==s[::-1]:\n",
    "        print('YES')\n",
    "        return\n",
    "    else:\n",
    "        print('NO')\n",
    "        return \n",
    "s=input()\n",
    "palindrome(s)"
   ]
  },
  {
   "cell_type": "code",
   "execution_count": 19,
   "metadata": {},
   "outputs": [
    {
     "name": "stdout",
     "output_type": "stream",
     "text": [
      "928\n",
      "2 3 5 7 11 13 17 19 23 29 31 37 41 43 47 53 59 61 67 71 73 79 83 89 97 101 103 107 109 113 127 131 137 139 149 151 157 163 167 173 179 181 191 193 197 199 211 223 227 229 233 239 241 251 257 263 269 271 277 281 283 293 307 311 313 317 331 337 347 349 353 359 367 373 379 383 389 397 401 409 419 421 431 433 439 443 449 457 461 463 467 479 487 491 499 503 509 521 523 541 547 557 563 569 571 577 587 593 599 601 607 613 617 619 631 641 643 647 653 659 661 673 677 683 691 701 709 719 727 733 739 743 751 757 761 769 773 787 797 809 811 821 823 827 829 839 853 857 859 863 877 881 883 887 907 911 919 "
     ]
    }
   ],
   "source": [
    "#5.Prime Numbers\n",
    "def numberPrime(n):\n",
    "    for a in range(2,n+1):\n",
    "        s=0\n",
    "        for i in range(2,a//2+1):\n",
    "            if a%i==0:\n",
    "                s+=1\n",
    "        if s<=0:\n",
    "            print(a,end=\" \")\n",
    "n=int(input())\n",
    "numberPrime(n)"
   ]
  },
  {
   "cell_type": "code",
   "execution_count": 2,
   "metadata": {},
   "outputs": [
    {
     "name": "stdout",
     "output_type": "stream",
     "text": [
      "3\n",
      "sumit mitsu\n",
      "YES\n",
      "ambuj jumba\n",
      "YES\n",
      "abhi hibb\n",
      "NO\n"
     ]
    }
   ],
   "source": [
    "#6.Two Strings\n",
    "def twoStrings(a1,a2):\n",
    "    l1=sorted(a1)\n",
    "    l2=sorted(a2)\n",
    "    if l1==l2:\n",
    "        print(\"YES\")\n",
    "    else:\n",
    "        print(\"NO\")\n",
    "s=int(input())\n",
    "for i in range(s):\n",
    "    s1=input()\n",
    "    l=s1.split()\n",
    "    twoStrings(l[0],l[1])"
   ]
  },
  {
   "cell_type": "code",
   "execution_count": null,
   "metadata": {},
   "outputs": [],
   "source": [
    "#7.Duration\n",
    "def calculateTimeDuration(shour,sminute,ehour,eminute):\n",
    "    val=abs((shour*60+sminute)-(ehour*60+eminute))\n",
    "    a,b=val//60,val%60\n",
    "    return a,b\n",
    "for i in range(int(input())):\n",
    "    print(*calculateTimeDuration(*map(int,input().split())))"
   ]
  },
  {
   "cell_type": "code",
   "execution_count": null,
   "metadata": {},
   "outputs": [],
   "source": [
    "#8.Char Sum\n",
    "def charSum(s):\n",
    "    ch=0\n",
    "    for i in s:\n",
    "        ch+=ord(i)-96\n",
    "    print(ch)\n",
    "s=input()\n",
    "charSum(s)\n"
   ]
  }
 ],
 "metadata": {
  "kernelspec": {
   "display_name": "Python 3",
   "language": "python",
   "name": "python3"
  },
  "language_info": {
   "codemirror_mode": {
    "name": "ipython",
    "version": 3
   },
   "file_extension": ".py",
   "mimetype": "text/x-python",
   "name": "python",
   "nbconvert_exporter": "python",
   "pygments_lexer": "ipython3",
   "version": "3.7.3"
  }
 },
 "nbformat": 4,
 "nbformat_minor": 2
}
