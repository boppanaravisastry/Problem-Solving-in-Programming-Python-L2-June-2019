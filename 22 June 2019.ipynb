{
 "cells": [
  {
   "cell_type": "markdown",
   "metadata": {},
   "source": [
    "### Date:22June2019\n",
    "\n",
    "### Day Objective\n",
    "\n",
    "- File Handling\n",
    "    - Basic File Data Processing\n",
    "        - Accessing and Modify file Data\n",
    "    - Character Count\n",
    "    - Line Count\n",
    "    - File Size\n",
    "    - Word Count\n",
    "    - Unique Word Count\n"
   ]
  },
  {
   "cell_type": "code",
   "execution_count": 2,
   "metadata": {},
   "outputs": [
    {
     "data": {
      "text/plain": [
       "'new data\\nnew line\\nnew linenew line\\nnew line'"
      ]
     },
     "execution_count": 2,
     "metadata": {},
     "output_type": "execute_result"
    }
   ],
   "source": [
    "# Read a File - File Should exist(Read mode)\n",
    "# Write a File - Existing(append mode) or new File(Write mode)\n",
    "\n",
    "def readFile(filePath):\n",
    "    with open(filePath,'r') as f:\n",
    "        filedata=f.read()\n",
    "    return filedata\n",
    "filePath='DataFiles/data.txt'\n",
    "readFile(filePath)"
   ]
  },
  {
   "cell_type": "code",
   "execution_count": 1,
   "metadata": {},
   "outputs": [
    {
     "name": "stdout",
     "output_type": "stream",
     "text": [
      "30\n"
     ]
    }
   ],
   "source": [
    "# Character Count\n",
    "def characterCount(filename):\n",
    "    with open(filename,'r') as f:\n",
    "        s=f.read()\n",
    "        c=0\n",
    "        for i in s:\n",
    "            c+=1\n",
    "        print(c)\n",
    "            \n",
    "filename='DataFiles/data.txt'\n",
    "characterCount(filename)"
   ]
  },
  {
   "cell_type": "code",
   "execution_count": 15,
   "metadata": {},
   "outputs": [
    {
     "name": "stdout",
     "output_type": "stream",
     "text": [
      "3\n"
     ]
    }
   ],
   "source": [
    "#line count\n",
    "def lineCount(filename):\n",
    "    with open(filename,'r') as f:\n",
    "        s=f.readlines()\n",
    "        c=0\n",
    "        for i in s:\n",
    "            c+=1\n",
    "        print(c)\n",
    "filename='DataFiles/data.txt'\n",
    "lineCount(filename)"
   ]
  },
  {
   "cell_type": "code",
   "execution_count": 2,
   "metadata": {},
   "outputs": [
    {
     "name": "stdout",
     "output_type": "stream",
     "text": [
      "30 B\n"
     ]
    }
   ],
   "source": [
    "# File Size\n",
    "\n",
    "import os\n",
    "\n",
    "def fileSize(filename):\n",
    "    size=os.path.getsize(filename)\n",
    "    if size<1024:\n",
    "        print(size,\"B\")\n",
    "    elif size >= 1024:\n",
    "        size=size%(1024)\n",
    "        print(size,\"KB\")\n",
    "    elif size >= (1024**2):\n",
    "        size=size%(1024**2)\n",
    "        print(size,\"MB\")\n",
    "fileSize(\"DataFiles/data.txt\")"
   ]
  },
  {
   "cell_type": "code",
   "execution_count": 4,
   "metadata": {},
   "outputs": [
    {
     "name": "stdout",
     "output_type": "stream",
     "text": [
      "5\n"
     ]
    }
   ],
   "source": [
    "#Word Count\n",
    "def wordCount(filename):\n",
    "    with open(filename,'r')as f:\n",
    "        l=f.read().split()\n",
    "        print(len(l))\n",
    "wordCount(\"DataFiles/data.txt\")"
   ]
  },
  {
   "cell_type": "code",
   "execution_count": 21,
   "metadata": {},
   "outputs": [
    {
     "name": "stdout",
     "output_type": "stream",
     "text": [
      "{'new': 2, 'data': 1, 'line': 1, 'bfiuwfbiuwbf': 1}\n"
     ]
    }
   ],
   "source": [
    "# Unique Word Count\n",
    "def uniqueCount(filename):\n",
    "    count={}\n",
    "    with open(filename,'r') as f:  \n",
    "        l=f.read().split()\n",
    "        for i in l:\n",
    "            if i in count:\n",
    "                count[i]+=1\n",
    "            else:\n",
    "                count[i]=1\n",
    "        print(count)\n",
    "filename='DataFiles/data.txt'\n",
    "uniqueCount(filename)\n"
   ]
  },
  {
   "cell_type": "code",
   "execution_count": null,
   "metadata": {},
   "outputs": [],
   "source": []
  }
 ],
 "metadata": {
  "kernelspec": {
   "display_name": "Python 3",
   "language": "python",
   "name": "python3"
  },
  "language_info": {
   "codemirror_mode": {
    "name": "ipython",
    "version": 3
   },
   "file_extension": ".py",
   "mimetype": "text/x-python",
   "name": "python",
   "nbconvert_exporter": "python",
   "pygments_lexer": "ipython3",
   "version": "3.7.3"
  }
 },
 "nbformat": 4,
 "nbformat_minor": 2
}
