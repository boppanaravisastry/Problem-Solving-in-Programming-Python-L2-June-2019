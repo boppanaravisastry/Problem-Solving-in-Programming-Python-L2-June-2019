{
 "cells": [
  {
   "cell_type": "code",
   "execution_count": null,
   "metadata": {},
   "outputs": [],
   "source": []
  },
  {
   "cell_type": "code",
   "execution_count": 27,
   "metadata": {},
   "outputs": [
    {
     "name": "stdout",
     "output_type": "stream",
     "text": [
      "name2 added to contacts\n"
     ]
    }
   ],
   "source": [
    "#Function to add contact to contacts text file\n",
    "from Packages.validators import validatePhoneNumber as pnv,emailValidator as ev\n",
    "\n",
    "def addContact(name,phone,email):\n",
    "    # store data as name,phone,email in the contacts file\n",
    "    filename='DataFiles/contacts.txt'\n",
    "    if not CheckContactExits(name):\n",
    "        if pnv(phone) and ev(email):\n",
    "            \n",
    "            with open(filename,'a') as f:\n",
    "                line=name+','+str(phone)+','+ email+ '\\n'\n",
    "                f.write(line)\n",
    "            print(name,\"added to contacts\")\n",
    "        else:\n",
    "            print('Invalid Phone number or email')\n",
    "            return\n",
    "    else:\n",
    "        print(name,'already exists')\n",
    "    return\n",
    "addContact(\"name2\",7036411571,\"ravi_b@gmail.in\")\n",
    "\n",
    "# Function to check if contact already exists\n",
    "import re\n",
    "def CheckContactExits(name):\n",
    "    filename='DataFiles/contacts.txt'\n",
    "    with open(filename,'r') as f:\n",
    "              filedata=f.read()\n",
    "              pattern=name+','\n",
    "    return re.search(pattern,filedata)\n",
    "#if CheckContactExits(\"name4\"):\n",
    " #   print(True)\n",
    "#else:\n",
    " #   print(False)'''\n"
   ]
  },
  {
   "cell_type": "code",
   "execution_count": 5,
   "metadata": {},
   "outputs": [
    {
     "data": {
      "text/plain": [
       "'name4,9505060477,ffhvbefi.f@apddc.in\\nname1,9505060477,ffhvb.f@apddc.in\\nname2,7036411571,ravi_b@gmail.in\\n'"
      ]
     },
     "execution_count": 5,
     "metadata": {},
     "output_type": "execute_result"
    }
   ],
   "source": [
    "filename='DataFiles/contacts.txt'\n",
    "def csvToList(filename):\n",
    "    li=[]\n",
    "    with open(filename,'r') as f:\n",
    "        for line in f:\n",
    "            li.append(line.split(','))\n",
    "    return li\n",
    "#csvToList(filename)\n",
    "def listToFile(li):\n",
    "    s=''\n",
    "    for i in li:\n",
    "        s+=','.join(i)\n",
    "    return s\n",
    "li=csvToList(filename)\n",
    "listToFile(li)\n",
    "        "
   ]
  },
  {
   "cell_type": "code",
   "execution_count": 22,
   "metadata": {},
   "outputs": [
    {
     "name": "stdout",
     "output_type": "stream",
     "text": [
      "name1,9505060477,ffhvb.f@apddc.in\n",
      "\n"
     ]
    }
   ],
   "source": [
    "def searchForContact(name):\n",
    "    fl = csvToList(filename)\n",
    "    for line in fl:\n",
    "        flag = 0\n",
    "        if name in line[0]:\n",
    "            flag =1\n",
    "            print(\",\".join(line))\n",
    "    return\n",
    "searchForContact(\"name1\")"
   ]
  },
  {
   "cell_type": "code",
   "execution_count": 17,
   "metadata": {},
   "outputs": [
    {
     "data": {
      "text/plain": [
       "-1"
      ]
     },
     "execution_count": 17,
     "metadata": {},
     "output_type": "execute_result"
    }
   ],
   "source": [
    "def searchWithReturn(fname,name):\n",
    "    fl = csvToList(filename)\n",
    "    \n",
    "    for i in range(len(fl)):\n",
    "        flag = 0\n",
    "        if name == fl[i][0]:\n",
    "            flag =1\n",
    "            ind = i\n",
    "            \n",
    "    if flag ==0:\n",
    "        return -1\n",
    "    else:\n",
    "        return i\n",
    "\n",
    "searchWithReturn(\"DataFiles/contacts.txt\",\"name1\")"
   ]
  },
  {
   "cell_type": "code",
   "execution_count": 18,
   "metadata": {},
   "outputs": [],
   "source": [
    "def removeContact(fname, name):\n",
    "    i = searchWithReturn(fname, name)\n",
    "    if i!=1:\n",
    "        fl = csvToList(fname)\n",
    "        fl.pop(i)\n",
    "        s = listToFile(fl)\n",
    "        with open(fname,'w') as f:\n",
    "            f.write(s)\n",
    "    else:\n",
    "        print(\"contact not found to remove\")\n",
    "        \n",
    "removeContact(\"DataFiles/contacts.txt\", \"name1\")"
   ]
  },
  {
   "cell_type": "code",
   "execution_count": null,
   "metadata": {},
   "outputs": [],
   "source": []
  }
 ],
 "metadata": {
  "kernelspec": {
   "display_name": "Python 3",
   "language": "python",
   "name": "python3"
  },
  "language_info": {
   "codemirror_mode": {
    "name": "ipython",
    "version": 3
   },
   "file_extension": ".py",
   "mimetype": "text/x-python",
   "name": "python",
   "nbconvert_exporter": "python",
   "pygments_lexer": "ipython3",
   "version": "3.7.3"
  }
 },
 "nbformat": 4,
 "nbformat_minor": 2
}
