{
 "cells": [
  {
   "cell_type": "code",
   "execution_count": 2,
   "metadata": {},
   "outputs": [
    {
     "name": "stdout",
     "output_type": "stream",
     "text": [
      "5\n",
      "[1, 3, 4, 5, 7, 8]\n"
     ]
    },
    {
     "data": {
      "text/plain": [
       "7"
      ]
     },
     "execution_count": 2,
     "metadata": {},
     "output_type": "execute_result"
    }
   ],
   "source": [
    "# Function to find the second largest number in alist\n",
    "def secondLargest(li):\n",
    "    # Convert the list into a unique list\n",
    "    #O(n)\n",
    "    unique=[]\n",
    "    for n in li:\n",
    "        if n not in unique:\n",
    "            unique.append(n)\n",
    "    unique=sorted(unique,reverse=True)\n",
    "    return unique[1]\n",
    "#secondLargest([1,2])\n",
    "\n",
    "# def fifthLeast(li)\n",
    "#def KLargest(li)\n",
    "#def KSmallest(li)\n",
    "\n",
    "def fifthLeast(li,k):\n",
    "    unique=[]\n",
    "    for n in li:\n",
    "        if n not in unique:\n",
    "            unique.append(n)\n",
    "    unique=sorted(unique)\n",
    "    print(unique)\n",
    "    return unique[k-1]\n",
    "k=int(input())\n",
    "fifthLeast([1,3,4,5,5,7,3,8],k)"
   ]
  },
  {
   "cell_type": "code",
   "execution_count": 7,
   "metadata": {},
   "outputs": [
    {
     "data": {
      "text/plain": [
       "9"
      ]
     },
     "execution_count": 7,
     "metadata": {},
     "output_type": "execute_result"
    }
   ],
   "source": [
    "def kSmallest(li,k):\n",
    "    #Extract Unique elements in the list\n",
    "    unique=[]\n",
    "    for i in li:\n",
    "        if i not in unique:\n",
    "            unique.append(i)\n",
    "    # Sort thr unique list in ascending order\n",
    "    unique = sorted(unique)\n",
    "    # Check if length of unique list is greater than k\n",
    "    if len(unique)>=k:\n",
    "        return unique[k-1]\n",
    "    return -1\n",
    "kSmallest([3,3,9],2)"
   ]
  },
  {
   "cell_type": "code",
   "execution_count": 28,
   "metadata": {},
   "outputs": [
    {
     "data": {
      "text/plain": [
       "2"
      ]
     },
     "execution_count": 28,
     "metadata": {},
     "output_type": "execute_result"
    }
   ],
   "source": [
    "# Function to identify the element with hieihest frequency in a list\n",
    "# If many elements have the highest frequency\n",
    "#highestFrequency([1,2,3,9,8,7,3,4,2,1])\n",
    "\n",
    "def highestFrequency(li):\n",
    "    #Extract Unique elements in the list\n",
    "    unique=[]\n",
    "    for i in li:\n",
    "        if i not in unique:\n",
    "            unique.append(i)\n",
    "        else:\n",
    "            unique.append(i)\n",
    "    unique=sorted(unique)\n",
    "    print(unique)\n",
    "#highestFrequency([1,2,3,9,8,7,3,4,2,1])\n",
    "\n",
    "def highestFrequency(li):\n",
    "    unique={}\n",
    "    for n in li:\n",
    "        if n not in unique:\n",
    "            unique[n]=1\n",
    "        else:\n",
    "            unique[n]+=1 \n",
    "    freq=unique.values()\n",
    "    maxfreq=max(freq)\n",
    "    maxfreqE=[]\n",
    "    # Identify the smallest number with maximum frequency\n",
    "    for item in unique.items():\n",
    "        if item[1]==maxfreq:\n",
    "            maxfreqE.append(item[0])\n",
    "    #select the minimum from the keys with maximum frequency\n",
    "    \n",
    "    maxfreqE=sorted(maxfreqE)\n",
    "    return maxfreqE[2-1]\n",
    "highestFrequency([1,2,3,9,8,7,3,4,2,1])        "
   ]
  },
  {
   "cell_type": "code",
   "execution_count": 32,
   "metadata": {},
   "outputs": [
    {
     "name": "stdout",
     "output_type": "stream",
     "text": [
      "dict_values([2, 2, 1, 1, 2])\n",
      "3\n"
     ]
    }
   ],
   "source": [
    "# Function to identify second highest frequency element.\n",
    "# if there are many such elements,\n",
    "#[1,2,3,2,1,4,4] -> 3\n",
    "def secondHeighest(li):\n",
    "    unique={}\n",
    "    for n in li:\n",
    "        if n not in unique:\n",
    "            unique[n]=1\n",
    "        else:\n",
    "            unique[n]+=1 \n",
    "    freq=unique.values()\n",
    "    print(freq)\n",
    "    maxfreq=min(freq)\n",
    "    maxfreqE=[]\n",
    "    # Identify the smallest number with maximum frequency\n",
    "    for item in unique.items(): \n",
    "            maxfreqE.append(item[0])\n",
    "    print(min(maxfreqE))\n",
    "\n",
    "secondHeighest([1,2,3,5,2,1,4,4])"
   ]
  },
  {
   "cell_type": "code",
   "execution_count": 3,
   "metadata": {},
   "outputs": [
    {
     "name": "stdout",
     "output_type": "stream",
     "text": [
      "{9: 2, 8: 1, 7: 5, 6: 4, 5: 1, 2: 1, 3: 1, 4: 1}\n",
      "dict_values([2, 1, 5, 4, 1, 1, 1, 1])\n",
      "[8, 5, 2, 3, 4]\n"
     ]
    },
    {
     "data": {
      "text/plain": [
       "2"
      ]
     },
     "execution_count": 3,
     "metadata": {},
     "output_type": "execute_result"
    }
   ],
   "source": [
    "# Function to identify kth highest frequency element\n",
    "# there arer many such elements, return the smallest \n",
    "#[9,8,7,6,5,2,3,4,9,6,7,7,7,6,7,6], k=4 ->2\n",
    "\n",
    "def kthHeighest(li):\n",
    "    unique={}\n",
    "    for n in li:\n",
    "        if n not in unique:\n",
    "            unique[n]=1\n",
    "        else:\n",
    "            unique[n]+=1 \n",
    "    print(unique)\n",
    "    freq=unique.values()\n",
    "    print(freq)\n",
    "    maxfreq=min(freq)\n",
    "    maxfreqE=[]\n",
    "    # Identify the smallest number with maximum frequency\n",
    "    for item in unique.items():\n",
    "        if item[1]==maxfreq:\n",
    "            maxfreqE.append(item[0])\n",
    "    print(maxfreqE)\n",
    "    return min(maxfreqE)\n",
    "kthHeighest([9,8,7,6,5,2,3,4,9,6,7,7,7,6,7,6])"
   ]
  },
  {
   "cell_type": "code",
   "execution_count": 4,
   "metadata": {},
   "outputs": [
    {
     "name": "stdout",
     "output_type": "stream",
     "text": [
      "{9: 2, 8: 1, 7: 5, 6: 4, 5: 1, 2: 1, 3: 1, 4: 1}\n",
      "dict_values([2, 1, 5, 4, 1, 1, 1, 1])\n",
      "[7]\n"
     ]
    },
    {
     "data": {
      "text/plain": [
       "7"
      ]
     },
     "execution_count": 4,
     "metadata": {},
     "output_type": "execute_result"
    }
   ],
   "source": [
    "# Function to identify kth highest frequency element\n",
    "# there arer many such elements, return the smallest \n",
    "#[9,8,7,6,5,2,3,4,9,6,7,7,7,6,7,6], k=4 ->2\n",
    "\n",
    "def kthlowest(li):\n",
    "    unique={}\n",
    "    for n in li:\n",
    "        if n not in unique:\n",
    "            unique[n]=1\n",
    "        else:\n",
    "            unique[n]+=1 \n",
    "    print(unique)\n",
    "    freq=unique.values()\n",
    "    print(freq)\n",
    "    maxfreq=max(freq)\n",
    "    maxfreqE=[]\n",
    "    # Identify the smallest number with maximum frequency\n",
    "    for item in unique.items():\n",
    "        if item[1]==maxfreq:\n",
    "            maxfreqE.append(item[0])\n",
    "    print(maxfreqE)\n",
    "    return max(maxfreqE)\n",
    "kthlowest([9,8,7,6,5,2,3,4,9,6,7,7,7,6,7,6])"
   ]
  },
  {
   "cell_type": "code",
   "execution_count": 15,
   "metadata": {},
   "outputs": [
    {
     "data": {
      "text/plain": [
       "6"
      ]
     },
     "execution_count": 15,
     "metadata": {},
     "output_type": "execute_result"
    }
   ],
   "source": [
    "def khighestfrequency(s,k):\n",
    "    #Unique characters with frequencies\n",
    "    unique ={}\n",
    "    for c in s:\n",
    "        if c not in unique:\n",
    "            unique[c]=1\n",
    "        else:\n",
    "            unique[c]+=1\n",
    "    #Extract all unique frequencies in a list\n",
    "    uniqfreq=[]\n",
    "    for value in unique.values():\n",
    "        if value not in uniqfreq:\n",
    "            uniqfreq.append(value)\n",
    "    uniqfreq=sorted(uniqfreq,reverse=True)\n",
    "    \n",
    "    kfreq=uniqfreq[k-1]\n",
    "    kfreqchar=[]\n",
    "    for item in unique.items():\n",
    "        if item[1]==kfreq:\n",
    "            kfreqchar.append(item[0])\n",
    "    return min(kfreqchar)\n",
    "khighestfrequency([9,8,7,6,5,2,3,4,9,6,7,7,7,6,7,6,6],1)"
   ]
  },
  {
   "cell_type": "code",
   "execution_count": null,
   "metadata": {},
   "outputs": [],
   "source": []
  }
 ],
 "metadata": {
  "kernelspec": {
   "display_name": "Python 3",
   "language": "python",
   "name": "python3"
  },
  "language_info": {
   "codemirror_mode": {
    "name": "ipython",
    "version": 3
   },
   "file_extension": ".py",
   "mimetype": "text/x-python",
   "name": "python",
   "nbconvert_exporter": "python",
   "pygments_lexer": "ipython3",
   "version": "3.7.3"
  }
 },
 "nbformat": 4,
 "nbformat_minor": 2
}
