{
 "cells": [
  {
   "cell_type": "markdown",
   "metadata": {},
   "source": [
    "### Problem Solving and Programming in Python Day-4\n"
   ]
  },
  {
   "cell_type": "markdown",
   "metadata": {},
   "source": [
    "### Date 14-June-2019"
   ]
  },
  {
   "cell_type": "markdown",
   "metadata": {},
   "source": [
    "### Day Objective\n",
    "- Python Data Structures\n",
    "   - Lists\n",
    "   - Tuples\n",
    "   - Dictionaries"
   ]
  },
  {
   "cell_type": "code",
   "execution_count": null,
   "metadata": {},
   "outputs": [],
   "source": []
  },
  {
   "cell_type": "markdown",
   "metadata": {},
   "source": [
    "#### Python Data Structures"
   ]
  },
  {
   "cell_type": "markdown",
   "metadata": {},
   "source": [
    "##### Lists"
   ]
  },
  {
   "cell_type": "code",
   "execution_count": 21,
   "metadata": {},
   "outputs": [
    {
     "data": {
      "text/plain": [
       "297.25"
      ]
     },
     "execution_count": 21,
     "metadata": {},
     "output_type": "execute_result"
    }
   ],
   "source": [
    "li=[123,978,654]\n",
    "li # Access the entire list\n",
    "li[1] # Access an element with index in a list\n",
    "li[1:]# Access all elements from second element to last element\n",
    "li[::-1]# Reversing list elements and reassigning list elements\n",
    "li[::2]#Accessing  even index elements\n",
    "li[1::2]# Accessing odd index elements\n",
    "\n",
    "#List can be accessed, manipulated in wo of \n",
    "    #Direct Referencing\n",
    "    #indirect Referencing Through funion\n",
    "li.append(35)#adding an element to the    \n",
    "li#adding a e,lement  paricular \n",
    "li.insert(1,234)\n",
    "li2=[234,5,67,987]\n",
    "li.extend(li2)#Merge list2 into list1\n",
    "\n",
    "\n",
    "sum(li)\n",
    "max(li)\n",
    "len(li)\n",
    "\n",
    "#Average of list elemts\n",
    "sum(li)/len(li)\n",
    "\n",
    "#AVerage of all alternative elements\n",
    "sum(li[1::2])/len(li[1::2])"
   ]
  },
  {
   "cell_type": "code",
   "execution_count": 27,
   "metadata": {},
   "outputs": [
    {
     "data": {
      "text/plain": [
       "8"
      ]
     },
     "execution_count": 27,
     "metadata": {},
     "output_type": "execute_result"
    }
   ],
   "source": [
    "#Function to identify the second largest elements in a list\n",
    "# Sort the data and select the second last element\n",
    "# Sort the data in reverse order and select the second element\n",
    "# Remove the max element and then get the max of the \n",
    "def secondLargest(li): \n",
    "    li.sort()\n",
    "    return li[-2]\n",
    "secondLargest([2,7,1,5,8,9])"
   ]
  },
  {
   "cell_type": "code",
   "execution_count": 28,
   "metadata": {},
   "outputs": [
    {
     "data": {
      "text/plain": [
       "5"
      ]
     },
     "execution_count": 28,
     "metadata": {},
     "output_type": "execute_result"
    }
   ],
   "source": [
    "def genericLargest(li,n):\n",
    "    li.sort()\n",
    "    return li[-n]\n",
    "genericLargest([2,7,1,5,8,9],4)"
   ]
  },
  {
   "cell_type": "code",
   "execution_count": 35,
   "metadata": {},
   "outputs": [
    {
     "data": {
      "text/plain": [
       "-1"
      ]
     },
     "execution_count": 35,
     "metadata": {},
     "output_type": "execute_result"
    }
   ],
   "source": [
    "# Function to Serach for data in a list\n",
    "def linearSearch(li,key):\n",
    "    for index in range(0,len(li)):\n",
    "        if li[index]==key:\n",
    "            return index\n",
    "    return -1\n",
    "def linearSearch2(li,key):\n",
    "    for element in li:\n",
    "        if element==key:\n",
    "            return li.index(element)\n",
    "    return -1\n",
    "linearSearch2([2,7,1,5,8,9],5)\n",
    "def linearSearch3(li,key):\n",
    "    if key in li:\n",
    "        return li.index(key)\n",
    "    return -1\n",
    "linearSearch3(li,3)"
   ]
  },
  {
   "cell_type": "code",
   "execution_count": 38,
   "metadata": {},
   "outputs": [
    {
     "data": {
      "text/plain": [
       "2"
      ]
     },
     "execution_count": 38,
     "metadata": {},
     "output_type": "execute_result"
    }
   ],
   "source": [
    "# Function to count the occurances of a character\n",
    "# \"Python Programming,m-->2\n",
    "\n",
    "def countOccurances(s,c):\n",
    "    count=0\n",
    "    for ch in s:\n",
    "        if ch==c:\n",
    "            count+=1\n",
    "    return count\n",
    "countOccurances(\"programming\",\"m\")\n",
    "    "
   ]
  },
  {
   "cell_type": "code",
   "execution_count": 40,
   "metadata": {},
   "outputs": [
    {
     "data": {
      "text/plain": [
       "0"
      ]
     },
     "execution_count": 40,
     "metadata": {},
     "output_type": "execute_result"
    }
   ],
   "source": [
    "#Function to find the number of occurances of sub string\n",
    "#\"abcabcddcbaaaa\",\"aa\"-->3\n",
    "def countOccurances2(s,c):\n",
    "    count=0\n",
    "    for ch in s:\n",
    "        if ch==c:\n",
    "            count+=1\n",
    "    return count\n",
    "countOccurances(\"abcabcddcbaaaa\",\"abc\")"
   ]
  },
  {
   "cell_type": "code",
   "execution_count": 2,
   "metadata": {},
   "outputs": [
    {
     "name": "stdout",
     "output_type": "stream",
     "text": [
      "3\n"
     ]
    },
    {
     "data": {
      "text/plain": [
       "14"
      ]
     },
     "execution_count": 2,
     "metadata": {},
     "output_type": "execute_result"
    }
   ],
   "source": [
    " # Task1\n",
    "n=int(input())\n",
    "def sumSquaresNaturalNumbers(n):\n",
    "    s=0\n",
    "    for i in range(1,n+1):\n",
    "        s+=i**2\n",
    "    return s\n",
    "sumSquaresNaturalNumbers(n)"
   ]
  },
  {
   "cell_type": "code",
   "execution_count": 6,
   "metadata": {},
   "outputs": [
    {
     "name": "stdout",
     "output_type": "stream",
     "text": [
      "6\n",
      "-1 1 2 3 -10 4\n"
     ]
    },
    {
     "data": {
      "text/plain": [
       "1"
      ]
     },
     "execution_count": 6,
     "metadata": {},
     "output_type": "execute_result"
    }
   ],
   "source": [
    "#Task2\n",
    "n = int(input())\n",
    "s = input()\n",
    "li=[]\n",
    "for i in s.split():\n",
    "    li.append(int(i))\n",
    "    \n",
    "    #-1000 -100 1 2 3 4\n",
    "def closestZero(li):\n",
    "    nl=[]\n",
    "    for i in li:\n",
    "        if i<0:\n",
    "            nl.append(i)\n",
    "    pl=[]\n",
    "    for i in li:\n",
    "        if i>=0:\n",
    "            pl.append(i)\n",
    "    if len(nl)>0:\n",
    "        nc=max(nl)\n",
    "    if len(pl)>0:\n",
    "        pc=min(pl)\n",
    "    if abs(nc)==pc:\n",
    "        return pc\n",
    "    elif abs(nc)<pc:\n",
    "        return abs(nc)\n",
    "    else:\n",
    "        return pc\n",
    "closestZero(li)"
   ]
  },
  {
   "cell_type": "code",
   "execution_count": 7,
   "metadata": {},
   "outputs": [
    {
     "name": "stdout",
     "output_type": "stream",
     "text": [
      "6\n",
      "-2 -1 1 2 3 4\n"
     ]
    },
    {
     "data": {
      "text/plain": [
       "1"
      ]
     },
     "execution_count": 7,
     "metadata": {},
     "output_type": "execute_result"
    }
   ],
   "source": [
    "n=int(input())\n",
    "s=input()\n",
    "s=s.split()\n",
    "li=[]\n",
    "for i in s:\n",
    "    li.append(abs(int(i)))\n",
    "def closestNumber(li):\n",
    "    \n"
   ]
  },
  {
   "cell_type": "code",
   "execution_count": null,
   "metadata": {},
   "outputs": [],
   "source": []
  }
 ],
 "metadata": {
  "kernelspec": {
   "display_name": "Python 3",
   "language": "python",
   "name": "python3"
  },
  "language_info": {
   "codemirror_mode": {
    "name": "ipython",
    "version": 3
   },
   "file_extension": ".py",
   "mimetype": "text/x-python",
   "name": "python",
   "nbconvert_exporter": "python",
   "pygments_lexer": "ipython3",
   "version": "3.7.3"
  }
 },
 "nbformat": 4,
 "nbformat_minor": 2
}
